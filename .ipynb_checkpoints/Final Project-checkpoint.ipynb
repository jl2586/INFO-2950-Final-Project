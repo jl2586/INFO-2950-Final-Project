{
 "cells": [
  {
   "cell_type": "code",
   "execution_count": 1,
   "metadata": {},
   "outputs": [],
   "source": [
    "import pandas as pd\n",
    "import numpy as np\n",
    "import scipy\n",
    "import matplotlib.pyplot as plt\n",
    "from sklearn.linear_model import LinearRegression\n",
    "from sklearn.metrics import r2_score"
   ]
  },
  {
   "cell_type": "markdown",
   "metadata": {},
   "source": [
    "Our subject for this project will be finding a possible correlation between the number of Ubers picking up passengers and traffic volume for given hourly time ranges. The question we want to ask is does the time of uber pickup have any correlation with traffic volume at the time? Just to clarify, the time of uber pickup would be the number of uber called for a certain hourly time range. \n",
    "\n",
    "Originally, we wanted to work with multiple months, but ultimately we decided to only work with the month of September from the 13th and onwards. We chose this because we found that this has the most variation and \n",
    "\n",
    "Uber Data Source: https://data.world/data-society/uber-pickups-in-nyc"
   ]
  },
  {
   "cell_type": "code",
   "execution_count": 2,
   "metadata": {},
   "outputs": [
    {
     "name": "stdout",
     "output_type": "stream",
     "text": [
      "Index(['ID', 'Segment ID', 'Roadway Name', 'From', 'To', 'Direction', 'Date',\n",
      "       '12:00-1:00 AM', '1:00-2:00AM', '2:00-3:00AM', '3:00-4:00AM',\n",
      "       '4:00-5:00AM', '5:00-6:00AM', '6:00-7:00AM', '7:00-8:00AM',\n",
      "       '8:00-9:00AM', '9:00-10:00AM', '10:00-11:00AM', '11:00-12:00PM',\n",
      "       '12:00-1:00PM', '1:00-2:00PM', '2:00-3:00PM', '3:00-4:00PM',\n",
      "       '4:00-5:00PM', '5:00-6:00PM', '6:00-7:00PM', '7:00-8:00PM',\n",
      "       '8:00-9:00PM', '9:00-10:00PM', '10:00-11:00PM', '11:00-12:00AM'],\n",
      "      dtype='object')\n"
     ]
    }
   ],
   "source": [
    "traffic_volume_raw = pd.read_csv(\"Traffic_Volume_Counts__2014-2018_.csv\")\n",
    "traffic_volume_raw.head()\n",
    "print(traffic_volume_raw.columns)"
   ]
  },
  {
   "cell_type": "markdown",
   "metadata": {},
   "source": [
    "why did we do this and how we chose our final clean data set to work with"
   ]
  },
  {
   "cell_type": "code",
   "execution_count": 3,
   "metadata": {
    "scrolled": true
   },
   "outputs": [
    {
     "data": {
      "text/html": [
       "<div>\n",
       "<style scoped>\n",
       "    .dataframe tbody tr th:only-of-type {\n",
       "        vertical-align: middle;\n",
       "    }\n",
       "\n",
       "    .dataframe tbody tr th {\n",
       "        vertical-align: top;\n",
       "    }\n",
       "\n",
       "    .dataframe thead th {\n",
       "        text-align: right;\n",
       "    }\n",
       "</style>\n",
       "<table border=\"1\" class=\"dataframe\">\n",
       "  <thead>\n",
       "    <tr style=\"text-align: right;\">\n",
       "      <th></th>\n",
       "      <th>ID</th>\n",
       "      <th>Segment ID</th>\n",
       "      <th>Roadway Name</th>\n",
       "      <th>From</th>\n",
       "      <th>To</th>\n",
       "      <th>Direction</th>\n",
       "      <th>Date</th>\n",
       "      <th>7:00-8:00AM</th>\n",
       "      <th>8:00-9:00AM</th>\n",
       "      <th>9:00-10:00AM</th>\n",
       "      <th>10:00-11:00AM</th>\n",
       "      <th>11:00-12:00PM</th>\n",
       "      <th>12:00-1:00PM</th>\n",
       "      <th>1:00-2:00PM</th>\n",
       "      <th>2:00-3:00PM</th>\n",
       "      <th>3:00-4:00PM</th>\n",
       "      <th>4:00-5:00PM</th>\n",
       "      <th>5:00-6:00PM</th>\n",
       "    </tr>\n",
       "  </thead>\n",
       "  <tbody>\n",
       "    <tr>\n",
       "      <th>0</th>\n",
       "      <td>2</td>\n",
       "      <td>70376</td>\n",
       "      <td>3 Avenue</td>\n",
       "      <td>East 154 Street</td>\n",
       "      <td>East 155 Street</td>\n",
       "      <td>NB</td>\n",
       "      <td>9/13/2014</td>\n",
       "      <td>180.0</td>\n",
       "      <td>223.0</td>\n",
       "      <td>272.0</td>\n",
       "      <td>386.0</td>\n",
       "      <td>339.0</td>\n",
       "      <td>513</td>\n",
       "      <td>506</td>\n",
       "      <td>520</td>\n",
       "      <td>611</td>\n",
       "      <td>573</td>\n",
       "      <td>546</td>\n",
       "    </tr>\n",
       "    <tr>\n",
       "      <th>1</th>\n",
       "      <td>2</td>\n",
       "      <td>70376</td>\n",
       "      <td>3 Avenue</td>\n",
       "      <td>East 155 Street</td>\n",
       "      <td>East 154 Street</td>\n",
       "      <td>SB</td>\n",
       "      <td>9/13/2014</td>\n",
       "      <td>219.0</td>\n",
       "      <td>226.0</td>\n",
       "      <td>273.0</td>\n",
       "      <td>317.0</td>\n",
       "      <td>325.0</td>\n",
       "      <td>403</td>\n",
       "      <td>414</td>\n",
       "      <td>379</td>\n",
       "      <td>376</td>\n",
       "      <td>329</td>\n",
       "      <td>362</td>\n",
       "    </tr>\n",
       "    <tr>\n",
       "      <th>2</th>\n",
       "      <td>56</td>\n",
       "      <td>176365</td>\n",
       "      <td>Bedford Park Boulevard</td>\n",
       "      <td>Grand Concourse</td>\n",
       "      <td>Valentine Avenue</td>\n",
       "      <td>EB</td>\n",
       "      <td>9/13/2014</td>\n",
       "      <td>113.0</td>\n",
       "      <td>169.0</td>\n",
       "      <td>210.0</td>\n",
       "      <td>182.0</td>\n",
       "      <td>245.0</td>\n",
       "      <td>244</td>\n",
       "      <td>233</td>\n",
       "      <td>280</td>\n",
       "      <td>272</td>\n",
       "      <td>264</td>\n",
       "      <td>236</td>\n",
       "    </tr>\n",
       "    <tr>\n",
       "      <th>3</th>\n",
       "      <td>56</td>\n",
       "      <td>176365</td>\n",
       "      <td>Bedford Park Boulevard</td>\n",
       "      <td>Grand Concourse</td>\n",
       "      <td>Valentine Avenue</td>\n",
       "      <td>WB</td>\n",
       "      <td>9/13/2014</td>\n",
       "      <td>142.0</td>\n",
       "      <td>198.0</td>\n",
       "      <td>212.0</td>\n",
       "      <td>205.0</td>\n",
       "      <td>237.0</td>\n",
       "      <td>257</td>\n",
       "      <td>245</td>\n",
       "      <td>237</td>\n",
       "      <td>276</td>\n",
       "      <td>223</td>\n",
       "      <td>240</td>\n",
       "    </tr>\n",
       "    <tr>\n",
       "      <th>4</th>\n",
       "      <td>62</td>\n",
       "      <td>147673</td>\n",
       "      <td>Broadway</td>\n",
       "      <td>West 242 Street</td>\n",
       "      <td>240 Street</td>\n",
       "      <td>SB</td>\n",
       "      <td>9/13/2014</td>\n",
       "      <td>354.0</td>\n",
       "      <td>473.0</td>\n",
       "      <td>567.0</td>\n",
       "      <td>634.0</td>\n",
       "      <td>781.0</td>\n",
       "      <td>785</td>\n",
       "      <td>779</td>\n",
       "      <td>732</td>\n",
       "      <td>809</td>\n",
       "      <td>707</td>\n",
       "      <td>675</td>\n",
       "    </tr>\n",
       "  </tbody>\n",
       "</table>\n",
       "</div>"
      ],
      "text/plain": [
       "   ID  Segment ID            Roadway Name             From                To  \\\n",
       "0   2       70376                3 Avenue  East 154 Street   East 155 Street   \n",
       "1   2       70376                3 Avenue  East 155 Street   East 154 Street   \n",
       "2  56      176365  Bedford Park Boulevard  Grand Concourse  Valentine Avenue   \n",
       "3  56      176365  Bedford Park Boulevard  Grand Concourse  Valentine Avenue   \n",
       "4  62      147673                Broadway  West 242 Street        240 Street   \n",
       "\n",
       "  Direction       Date  7:00-8:00AM  8:00-9:00AM  9:00-10:00AM  10:00-11:00AM  \\\n",
       "0        NB  9/13/2014        180.0        223.0         272.0          386.0   \n",
       "1        SB  9/13/2014        219.0        226.0         273.0          317.0   \n",
       "2        EB  9/13/2014        113.0        169.0         210.0          182.0   \n",
       "3        WB  9/13/2014        142.0        198.0         212.0          205.0   \n",
       "4        SB  9/13/2014        354.0        473.0         567.0          634.0   \n",
       "\n",
       "   11:00-12:00PM  12:00-1:00PM  1:00-2:00PM  2:00-3:00PM  3:00-4:00PM  \\\n",
       "0          339.0           513          506          520          611   \n",
       "1          325.0           403          414          379          376   \n",
       "2          245.0           244          233          280          272   \n",
       "3          237.0           257          245          237          276   \n",
       "4          781.0           785          779          732          809   \n",
       "\n",
       "   4:00-5:00PM  5:00-6:00PM  \n",
       "0          573          546  \n",
       "1          329          362  \n",
       "2          264          236  \n",
       "3          223          240  \n",
       "4          707          675  "
      ]
     },
     "execution_count": 3,
     "metadata": {},
     "output_type": "execute_result"
    }
   ],
   "source": [
    "#we have decided to look only at times from 7 AM - 6 PM for traffic volume\n",
    "\n",
    "traffic_volume = traffic_volume_raw.drop(['12:00-1:00 AM','1:00-2:00AM',\n",
    "                                          '2:00-3:00AM','3:00-4:00AM',\n",
    "                                         '4:00-5:00AM','5:00-6:00AM',\n",
    "                                          '6:00-7:00AM', '6:00-7:00PM',\n",
    "                                          '7:00-8:00PM','8:00-9:00PM',\n",
    "                                          '9:00-10:00PM','10:00-11:00PM',\n",
    "                                          '11:00-12:00AM'], axis=1)\n",
    "\n",
    "#traffic_volume is without the extra time as we are looking traffic volume during the workday. \n",
    "\n",
    "traffic_volume.head()"
   ]
  },
  {
   "cell_type": "code",
   "execution_count": 4,
   "metadata": {},
   "outputs": [
    {
     "data": {
      "text/html": [
       "<div>\n",
       "<style scoped>\n",
       "    .dataframe tbody tr th:only-of-type {\n",
       "        vertical-align: middle;\n",
       "    }\n",
       "\n",
       "    .dataframe tbody tr th {\n",
       "        vertical-align: top;\n",
       "    }\n",
       "\n",
       "    .dataframe thead th {\n",
       "        text-align: right;\n",
       "    }\n",
       "</style>\n",
       "<table border=\"1\" class=\"dataframe\">\n",
       "  <thead>\n",
       "    <tr style=\"text-align: right;\">\n",
       "      <th></th>\n",
       "      <th>7:00-8:00AM</th>\n",
       "      <th>8:00-9:00AM</th>\n",
       "      <th>9:00-10:00AM</th>\n",
       "      <th>10:00-11:00AM</th>\n",
       "      <th>11:00-12:00PM</th>\n",
       "      <th>12:00-1:00PM</th>\n",
       "      <th>1:00-2:00PM</th>\n",
       "      <th>2:00-3:00PM</th>\n",
       "      <th>3:00-4:00PM</th>\n",
       "      <th>4:00-5:00PM</th>\n",
       "      <th>5:00-6:00PM</th>\n",
       "    </tr>\n",
       "  </thead>\n",
       "  <tbody>\n",
       "    <tr>\n",
       "      <th>9/13/2014</th>\n",
       "      <td>414.788732</td>\n",
       "      <td>531.323944</td>\n",
       "      <td>611.112676</td>\n",
       "      <td>666.450704</td>\n",
       "      <td>760.126761</td>\n",
       "      <td>794.619718</td>\n",
       "      <td>799.661972</td>\n",
       "      <td>821.873239</td>\n",
       "      <td>814.154930</td>\n",
       "      <td>846.323944</td>\n",
       "      <td>857.647887</td>\n",
       "    </tr>\n",
       "    <tr>\n",
       "      <th>9/14/2014</th>\n",
       "      <td>283.394366</td>\n",
       "      <td>363.802817</td>\n",
       "      <td>481.042254</td>\n",
       "      <td>620.633803</td>\n",
       "      <td>710.126761</td>\n",
       "      <td>753.577465</td>\n",
       "      <td>783.169014</td>\n",
       "      <td>799.985915</td>\n",
       "      <td>828.366197</td>\n",
       "      <td>840.028169</td>\n",
       "      <td>823.042254</td>\n",
       "    </tr>\n",
       "    <tr>\n",
       "      <th>9/15/2014</th>\n",
       "      <td>988.211268</td>\n",
       "      <td>988.690141</td>\n",
       "      <td>765.845070</td>\n",
       "      <td>653.788732</td>\n",
       "      <td>637.366197</td>\n",
       "      <td>665.816901</td>\n",
       "      <td>704.464789</td>\n",
       "      <td>789.619718</td>\n",
       "      <td>912.549296</td>\n",
       "      <td>977.619718</td>\n",
       "      <td>992.154930</td>\n",
       "    </tr>\n",
       "    <tr>\n",
       "      <th>9/16/2014</th>\n",
       "      <td>958.000000</td>\n",
       "      <td>895.887324</td>\n",
       "      <td>774.943662</td>\n",
       "      <td>663.028169</td>\n",
       "      <td>636.140845</td>\n",
       "      <td>637.084507</td>\n",
       "      <td>679.422535</td>\n",
       "      <td>773.802817</td>\n",
       "      <td>890.901408</td>\n",
       "      <td>974.140845</td>\n",
       "      <td>982.464789</td>\n",
       "    </tr>\n",
       "    <tr>\n",
       "      <th>9/17/2014</th>\n",
       "      <td>971.535211</td>\n",
       "      <td>937.338028</td>\n",
       "      <td>751.746479</td>\n",
       "      <td>644.619718</td>\n",
       "      <td>651.253521</td>\n",
       "      <td>666.098592</td>\n",
       "      <td>705.577465</td>\n",
       "      <td>833.309859</td>\n",
       "      <td>934.605634</td>\n",
       "      <td>967.845070</td>\n",
       "      <td>987.676056</td>\n",
       "    </tr>\n",
       "  </tbody>\n",
       "</table>\n",
       "</div>"
      ],
      "text/plain": [
       "           7:00-8:00AM  8:00-9:00AM  9:00-10:00AM  10:00-11:00AM  \\\n",
       "9/13/2014   414.788732   531.323944    611.112676     666.450704   \n",
       "9/14/2014   283.394366   363.802817    481.042254     620.633803   \n",
       "9/15/2014   988.211268   988.690141    765.845070     653.788732   \n",
       "9/16/2014   958.000000   895.887324    774.943662     663.028169   \n",
       "9/17/2014   971.535211   937.338028    751.746479     644.619718   \n",
       "\n",
       "           11:00-12:00PM  12:00-1:00PM  1:00-2:00PM  2:00-3:00PM  3:00-4:00PM  \\\n",
       "9/13/2014     760.126761    794.619718   799.661972   821.873239   814.154930   \n",
       "9/14/2014     710.126761    753.577465   783.169014   799.985915   828.366197   \n",
       "9/15/2014     637.366197    665.816901   704.464789   789.619718   912.549296   \n",
       "9/16/2014     636.140845    637.084507   679.422535   773.802817   890.901408   \n",
       "9/17/2014     651.253521    666.098592   705.577465   833.309859   934.605634   \n",
       "\n",
       "           4:00-5:00PM  5:00-6:00PM  \n",
       "9/13/2014   846.323944   857.647887  \n",
       "9/14/2014   840.028169   823.042254  \n",
       "9/15/2014   977.619718   992.154930  \n",
       "9/16/2014   974.140845   982.464789  \n",
       "9/17/2014   967.845070   987.676056  "
      ]
     },
     "execution_count": 4,
     "metadata": {},
     "output_type": "execute_result"
    }
   ],
   "source": [
    "#removed unecessary data to cleanup final dataframe\n",
    "time_list = ['7:00-8:00AM','8:00-9:00AM','9:00-10:00AM', '10:00-11:00AM', '11:00-12:00PM',\n",
    "             '12:00-1:00PM', '1:00-2:00PM', '2:00-3:00PM', '3:00-4:00PM', '4:00-5:00PM', '5:00-6:00PM']\n",
    "\n",
    "\n",
    "day_list =  ['13','14','15','16','17','18','19','20',\n",
    "           '21','22','23','24','25','26','27','28','29','30']\n",
    "\n",
    "newday_list = []\n",
    "day_list = list(map(lambda x : \"9/{}/2014\".format(x), day_list))\n",
    "for day in day_list:\n",
    "    rows = traffic_volume.loc[traffic_volume['Date'] == day]\n",
    "    means_of_current_day = []\n",
    "    for time in time_list:\n",
    "        total = 0\n",
    "        for i in range(len(rows)):\n",
    "            j = rows.columns.get_loc(time)\n",
    "            total += rows.iat[i,j]\n",
    "        means_of_current_day.append(total/float(len(rows)))\n",
    "    newday_list.append(means_of_current_day)\n",
    "\n",
    "#making a new dataframe   \n",
    "traffic_mean = pd.DataFrame(newday_list, columns = time_list, index = day_list)\n",
    "traffic_mean.head()"
   ]
  },
  {
   "cell_type": "markdown",
   "metadata": {},
   "source": [
    "explain what we did to get our final datasets"
   ]
  },
  {
   "cell_type": "code",
   "execution_count": 5,
   "metadata": {},
   "outputs": [
    {
     "data": {
      "text/html": [
       "<div>\n",
       "<style scoped>\n",
       "    .dataframe tbody tr th:only-of-type {\n",
       "        vertical-align: middle;\n",
       "    }\n",
       "\n",
       "    .dataframe tbody tr th {\n",
       "        vertical-align: top;\n",
       "    }\n",
       "\n",
       "    .dataframe thead th {\n",
       "        text-align: right;\n",
       "    }\n",
       "</style>\n",
       "<table border=\"1\" class=\"dataframe\">\n",
       "  <thead>\n",
       "    <tr style=\"text-align: right;\">\n",
       "      <th></th>\n",
       "      <th>7:00-8:00AM</th>\n",
       "      <th>8:00-9:00AM</th>\n",
       "      <th>9:00-10:00AM</th>\n",
       "      <th>10:00-11:00AM</th>\n",
       "      <th>11:00-12:00PM</th>\n",
       "      <th>12:00-1:00PM</th>\n",
       "      <th>1:00-2:00PM</th>\n",
       "      <th>2:00-3:00PM</th>\n",
       "      <th>3:00-4:00PM</th>\n",
       "      <th>4:00-5:00PM</th>\n",
       "      <th>5:00-6:00PM</th>\n",
       "    </tr>\n",
       "  </thead>\n",
       "  <tbody>\n",
       "    <tr>\n",
       "      <th>9/13/2014</th>\n",
       "      <td>249</td>\n",
       "      <td>353</td>\n",
       "      <td>437</td>\n",
       "      <td>479</td>\n",
       "      <td>526</td>\n",
       "      <td>572</td>\n",
       "      <td>661</td>\n",
       "      <td>983</td>\n",
       "      <td>1098</td>\n",
       "      <td>1092</td>\n",
       "      <td>1105</td>\n",
       "    </tr>\n",
       "    <tr>\n",
       "      <th>9/14/2014</th>\n",
       "      <td>211</td>\n",
       "      <td>293</td>\n",
       "      <td>365</td>\n",
       "      <td>413</td>\n",
       "      <td>543</td>\n",
       "      <td>506</td>\n",
       "      <td>540</td>\n",
       "      <td>559</td>\n",
       "      <td>638</td>\n",
       "      <td>662</td>\n",
       "      <td>679</td>\n",
       "    </tr>\n",
       "    <tr>\n",
       "      <th>9/15/2014</th>\n",
       "      <td>575</td>\n",
       "      <td>591</td>\n",
       "      <td>440</td>\n",
       "      <td>367</td>\n",
       "      <td>376</td>\n",
       "      <td>384</td>\n",
       "      <td>451</td>\n",
       "      <td>534</td>\n",
       "      <td>643</td>\n",
       "      <td>802</td>\n",
       "      <td>882</td>\n",
       "    </tr>\n",
       "    <tr>\n",
       "      <th>9/16/2014</th>\n",
       "      <td>849</td>\n",
       "      <td>918</td>\n",
       "      <td>762</td>\n",
       "      <td>686</td>\n",
       "      <td>498</td>\n",
       "      <td>474</td>\n",
       "      <td>536</td>\n",
       "      <td>643</td>\n",
       "      <td>801</td>\n",
       "      <td>858</td>\n",
       "      <td>964</td>\n",
       "    </tr>\n",
       "    <tr>\n",
       "      <th>9/17/2014</th>\n",
       "      <td>719</td>\n",
       "      <td>608</td>\n",
       "      <td>471</td>\n",
       "      <td>456</td>\n",
       "      <td>446</td>\n",
       "      <td>492</td>\n",
       "      <td>571</td>\n",
       "      <td>656</td>\n",
       "      <td>747</td>\n",
       "      <td>915</td>\n",
       "      <td>1037</td>\n",
       "    </tr>\n",
       "  </tbody>\n",
       "</table>\n",
       "</div>"
      ],
      "text/plain": [
       "           7:00-8:00AM  8:00-9:00AM  9:00-10:00AM  10:00-11:00AM  \\\n",
       "9/13/2014          249          353           437            479   \n",
       "9/14/2014          211          293           365            413   \n",
       "9/15/2014          575          591           440            367   \n",
       "9/16/2014          849          918           762            686   \n",
       "9/17/2014          719          608           471            456   \n",
       "\n",
       "           11:00-12:00PM  12:00-1:00PM  1:00-2:00PM  2:00-3:00PM  3:00-4:00PM  \\\n",
       "9/13/2014            526           572          661          983         1098   \n",
       "9/14/2014            543           506          540          559          638   \n",
       "9/15/2014            376           384          451          534          643   \n",
       "9/16/2014            498           474          536          643          801   \n",
       "9/17/2014            446           492          571          656          747   \n",
       "\n",
       "           4:00-5:00PM  5:00-6:00PM  \n",
       "9/13/2014         1092         1105  \n",
       "9/14/2014          662          679  \n",
       "9/15/2014          802          882  \n",
       "9/16/2014          858          964  \n",
       "9/17/2014          915         1037  "
      ]
     },
     "execution_count": 5,
     "metadata": {},
     "output_type": "execute_result"
    }
   ],
   "source": [
    "#inserting uber data\n",
    "uber = pd.read_csv('uber-data.csv')\n",
    "\n",
    "#number of days in september being analyzed\n",
    "date_list = ['13','14','15','16','17','18','19','20',\n",
    "            '21','22','23','24','25','26','27','28','29','30']\n",
    "\n",
    "#number of hours\n",
    "hours_list = ['7','8','9','10','11','12','13','14','15','16','17']\n",
    "    \n",
    "uber_data = uber[\"Date Called\"].tolist()  \n",
    "\n",
    "#counting each day and hour\n",
    "total_list = []\n",
    "uber_date = []\n",
    "date_str = []\n",
    "for date in date_list:\n",
    "    find_date = ('9/'+date+'/2014')\n",
    "    date_str.append(find_date)\n",
    "    uber_date = [s for s in uber_data if find_date in s]\n",
    "    for hour in hours_list:\n",
    "        hour_str = \" \" + hour + \":\"\n",
    "        uber_hours = [s for s in uber_date if hour_str in s]\n",
    "        count = len(uber_hours)\n",
    "        total_list.append(count)\n",
    "\n",
    "total_list = np.reshape(total_list, (len(date_list), len(hours_list)))\n",
    "        \n",
    "uber_counts = pd.DataFrame(total_list, columns = time_list, index = date_str)\n",
    "uber_counts.head()\n",
    "            "
   ]
  },
  {
   "cell_type": "markdown",
   "metadata": {},
   "source": [
    "explain what we did to get our final datasets "
   ]
  },
  {
   "cell_type": "code",
   "execution_count": 6,
   "metadata": {},
   "outputs": [
    {
     "data": {
      "image/png": "[encoded data removed]",
      "text/plain": [
       "<Figure size 432x288 with 1 Axes>"
      ]
     },
     "metadata": {
      "needs_background": "light"
     },
     "output_type": "display_data"
    },
    {
     "data": {
      "image/png": "[encoded data removed]",
      "text/plain": [
       "<Figure size 432x288 with 1 Axes>"
      ]
     },
     "metadata": {
      "needs_background": "light"
     },
     "output_type": "display_data"
    },
    {
     "data": {
      "image/png": "[encoded data removed]",
      "text/plain": [
       "<Figure size 432x288 with 1 Axes>"
      ]
     },
     "metadata": {
      "needs_background": "light"
     },
     "output_type": "display_data"
    },
    {
     "data": {
      "image/png": "[encoded data removed]",
      "text/plain": [
       "<Figure size 432x288 with 1 Axes>"
      ]
     },
     "metadata": {
      "needs_background": "light"
     },
     "output_type": "display_data"
    },
    {
     "data": {
      "image/png": "[encoded data removed]",
      "text/plain": [
       "<Figure size 432x288 with 1 Axes>"
      ]
     },
     "metadata": {
      "needs_background": "light"
     },
     "output_type": "display_data"
    },
    {
     "data": {
      "image/png": "[encoded data removed]",
      "text/plain": [
       "<Figure size 432x288 with 1 Axes>"
      ]
     },
     "metadata": {
      "needs_background": "light"
     },
     "output_type": "display_data"
    },
    {
     "data": {
      "image/png": "[encoded data removed]",
      "text/plain": [
       "<Figure size 432x288 with 1 Axes>"
      ]
     },
     "metadata": {
      "needs_background": "light"
     },
     "output_type": "display_data"
    },
    {
     "data": {
      "image/png": "[encoded data removed]",
      "text/plain": [
       "<Figure size 432x288 with 1 Axes>"
      ]
     },
     "metadata": {
      "needs_background": "light"
     },
     "output_type": "display_data"
    },
    {
     "data": {
      "image/png": "[encoded data removed]",
      "text/plain": [
       "<Figure size 432x288 with 1 Axes>"
      ]
     },
     "metadata": {
      "needs_background": "light"
     },
     "output_type": "display_data"
    },
    {
     "data": {
      "image/png": "[encoded data removed]",
      "text/plain": [
       "<Figure size 432x288 with 1 Axes>"
      ]
     },
     "metadata": {
      "needs_background": "light"
     },
     "output_type": "display_data"
    },
    {
     "data": {
      "image/png": "[encoded data removed]",
      "text/plain": [
       "<Figure size 432x288 with 1 Axes>"
      ]
     },
     "metadata": {
      "needs_background": "light"
     },
     "output_type": "display_data"
    },
    {
     "data": {
      "image/png": "[encoded data removed]",
      "text/plain": [
       "<Figure size 432x288 with 1 Axes>"
      ]
     },
     "metadata": {
      "needs_background": "light"
     },
     "output_type": "display_data"
    },
    {
     "data": {
      "image/png": "[encoded data removed]",
      "text/plain": [
       "<Figure size 432x288 with 1 Axes>"
      ]
     },
     "metadata": {
      "needs_background": "light"
     },
     "output_type": "display_data"
    },
    {
     "data": {
      "image/png": "[encoded data removed]",
      "text/plain": [
       "<Figure size 432x288 with 1 Axes>"
      ]
     },
     "metadata": {
      "needs_background": "light"
     },
     "output_type": "display_data"
    },
    {
     "data": {
      "image/png": "[encoded data removed]",
      "text/plain": [
       "<Figure size 432x288 with 1 Axes>"
      ]
     },
     "metadata": {
      "needs_background": "light"
     },
     "output_type": "display_data"
    },
    {
     "data": {
      "image/png": "[encoded data removed]",
      "text/plain": [
       "<Figure size 432x288 with 1 Axes>"
      ]
     },
     "metadata": {
      "needs_background": "light"
     },
     "output_type": "display_data"
    },
    {
     "data": {
      "image/png": "[encoded data removed]",
      "text/plain": [
       "<Figure size 432x288 with 1 Axes>"
      ]
     },
     "metadata": {
      "needs_background": "light"
     },
     "output_type": "display_data"
    },
    {
     "data": {
      "image/png": "[encoded data removed]",
      "text/plain": [
       "<Figure size 432x288 with 1 Axes>"
      ]
     },
     "metadata": {
      "needs_background": "light"
     },
     "output_type": "display_data"
    }
   ],
   "source": [
    "#Separate scatterplots for each date\n",
    "\n",
    "for date in date_list:\n",
    "    find_date = ('9/'+date+'/2014')\n",
    "    plt.scatter(uber_counts.loc[find_date], traffic_mean.loc[find_date])\n",
    "    plt.xlabel('Uber Counts')\n",
    "    plt.ylabel('Traffic Volume Mean')\n",
    "    plt.title('Uber Counts v. Traffic Volume Mean for'+find_date)\n",
    "    plt.show()"
   ]
  },
  {
   "cell_type": "markdown",
   "metadata": {},
   "source": [
    "#say something here"
   ]
  },
  {
   "cell_type": "markdown",
   "metadata": {},
   "source": [
    "talk about next steps to take, why we chose to create these new dataframes"
   ]
  },
  {
   "cell_type": "code",
   "execution_count": 7,
   "metadata": {},
   "outputs": [
    {
     "data": {
      "text/html": [
       "<div>\n",
       "<style scoped>\n",
       "    .dataframe tbody tr th:only-of-type {\n",
       "        vertical-align: middle;\n",
       "    }\n",
       "\n",
       "    .dataframe tbody tr th {\n",
       "        vertical-align: top;\n",
       "    }\n",
       "\n",
       "    .dataframe thead th {\n",
       "        text-align: right;\n",
       "    }\n",
       "</style>\n",
       "<table border=\"1\" class=\"dataframe\">\n",
       "  <thead>\n",
       "    <tr style=\"text-align: right;\">\n",
       "      <th></th>\n",
       "      <th>7:00-8:00AM</th>\n",
       "      <th>8:00-9:00AM</th>\n",
       "      <th>9:00-10:00AM</th>\n",
       "      <th>10:00-11:00AM</th>\n",
       "      <th>11:00-12:00PM</th>\n",
       "      <th>12:00-1:00PM</th>\n",
       "      <th>1:00-2:00PM</th>\n",
       "      <th>2:00-3:00PM</th>\n",
       "      <th>3:00-4:00PM</th>\n",
       "      <th>4:00-5:00PM</th>\n",
       "      <th>5:00-6:00PM</th>\n",
       "    </tr>\n",
       "  </thead>\n",
       "  <tbody>\n",
       "    <tr>\n",
       "      <th>Uber Counts Mean</th>\n",
       "      <td>559.111111</td>\n",
       "      <td>563.611111</td>\n",
       "      <td>505.111111</td>\n",
       "      <td>488.777778</td>\n",
       "      <td>504.0</td>\n",
       "      <td>503.333333</td>\n",
       "      <td>575.444444</td>\n",
       "      <td>673.888889</td>\n",
       "      <td>775.166667</td>\n",
       "      <td>865.222222</td>\n",
       "      <td>936.833333</td>\n",
       "    </tr>\n",
       "  </tbody>\n",
       "</table>\n",
       "</div>"
      ],
      "text/plain": [
       "                  7:00-8:00AM  8:00-9:00AM  9:00-10:00AM  10:00-11:00AM  \\\n",
       "Uber Counts Mean   559.111111   563.611111    505.111111     488.777778   \n",
       "\n",
       "                  11:00-12:00PM  12:00-1:00PM  1:00-2:00PM  2:00-3:00PM  \\\n",
       "Uber Counts Mean          504.0    503.333333   575.444444   673.888889   \n",
       "\n",
       "                  3:00-4:00PM  4:00-5:00PM  5:00-6:00PM  \n",
       "Uber Counts Mean   775.166667   865.222222   936.833333  "
      ]
     },
     "execution_count": 7,
     "metadata": {},
     "output_type": "execute_result"
    }
   ],
   "source": [
    "#make new dataframes for uber and traffic volume data for future Linear Regression \n",
    "\n",
    "newuber_df = pd.DataFrame(uber_counts.mean().to_dict(),index=[uber_counts.index.values[-1]])\n",
    "newuber_df = newuber_df.rename(index = {'9/30/2014':'Uber Counts Mean'})\n",
    "newuber_df.head()"
   ]
  },
  {
   "cell_type": "code",
   "execution_count": 8,
   "metadata": {
    "scrolled": true
   },
   "outputs": [
    {
     "data": {
      "text/html": [
       "<div>\n",
       "<style scoped>\n",
       "    .dataframe tbody tr th:only-of-type {\n",
       "        vertical-align: middle;\n",
       "    }\n",
       "\n",
       "    .dataframe tbody tr th {\n",
       "        vertical-align: top;\n",
       "    }\n",
       "\n",
       "    .dataframe thead th {\n",
       "        text-align: right;\n",
       "    }\n",
       "</style>\n",
       "<table border=\"1\" class=\"dataframe\">\n",
       "  <thead>\n",
       "    <tr style=\"text-align: right;\">\n",
       "      <th></th>\n",
       "      <th>7:00-8:00AM</th>\n",
       "      <th>8:00-9:00AM</th>\n",
       "      <th>9:00-10:00AM</th>\n",
       "      <th>10:00-11:00AM</th>\n",
       "      <th>11:00-12:00PM</th>\n",
       "      <th>12:00-1:00PM</th>\n",
       "      <th>1:00-2:00PM</th>\n",
       "      <th>2:00-3:00PM</th>\n",
       "      <th>3:00-4:00PM</th>\n",
       "      <th>4:00-5:00PM</th>\n",
       "      <th>5:00-6:00PM</th>\n",
       "    </tr>\n",
       "  </thead>\n",
       "  <tbody>\n",
       "    <tr>\n",
       "      <th>Traffic Volume Mean</th>\n",
       "      <td>586.349986</td>\n",
       "      <td>614.890602</td>\n",
       "      <td>556.154634</td>\n",
       "      <td>530.305455</td>\n",
       "      <td>551.968468</td>\n",
       "      <td>576.788778</td>\n",
       "      <td>600.1091</td>\n",
       "      <td>659.313755</td>\n",
       "      <td>718.491115</td>\n",
       "      <td>750.837422</td>\n",
       "      <td>754.831442</td>\n",
       "    </tr>\n",
       "  </tbody>\n",
       "</table>\n",
       "</div>"
      ],
      "text/plain": [
       "                     7:00-8:00AM  8:00-9:00AM  9:00-10:00AM  10:00-11:00AM  \\\n",
       "Traffic Volume Mean   586.349986   614.890602    556.154634     530.305455   \n",
       "\n",
       "                     11:00-12:00PM  12:00-1:00PM  1:00-2:00PM  2:00-3:00PM  \\\n",
       "Traffic Volume Mean     551.968468    576.788778     600.1091   659.313755   \n",
       "\n",
       "                     3:00-4:00PM  4:00-5:00PM  5:00-6:00PM  \n",
       "Traffic Volume Mean   718.491115   750.837422   754.831442  "
      ]
     },
     "execution_count": 8,
     "metadata": {},
     "output_type": "execute_result"
    }
   ],
   "source": [
    "newtraffic_df = pd.DataFrame(traffic_mean.mean().to_dict(), index = [traffic_mean.index.values[-1]])\n",
    "newtraffic_df = newtraffic_df.rename(index = {'9/30/2014':'Traffic Volume Mean'})\n",
    "newtraffic_df.head()"
   ]
  },
  {
   "cell_type": "code",
   "execution_count": 9,
   "metadata": {},
   "outputs": [
    {
     "data": {
      "text/html": [
       "<div>\n",
       "<style scoped>\n",
       "    .dataframe tbody tr th:only-of-type {\n",
       "        vertical-align: middle;\n",
       "    }\n",
       "\n",
       "    .dataframe tbody tr th {\n",
       "        vertical-align: top;\n",
       "    }\n",
       "\n",
       "    .dataframe thead th {\n",
       "        text-align: right;\n",
       "    }\n",
       "</style>\n",
       "<table border=\"1\" class=\"dataframe\">\n",
       "  <thead>\n",
       "    <tr style=\"text-align: right;\">\n",
       "      <th></th>\n",
       "      <th>Uber Counts Mean</th>\n",
       "    </tr>\n",
       "  </thead>\n",
       "  <tbody>\n",
       "    <tr>\n",
       "      <th>7:00-8:00AM</th>\n",
       "      <td>559.111111</td>\n",
       "    </tr>\n",
       "    <tr>\n",
       "      <th>8:00-9:00AM</th>\n",
       "      <td>563.611111</td>\n",
       "    </tr>\n",
       "    <tr>\n",
       "      <th>9:00-10:00AM</th>\n",
       "      <td>505.111111</td>\n",
       "    </tr>\n",
       "    <tr>\n",
       "      <th>10:00-11:00AM</th>\n",
       "      <td>488.777778</td>\n",
       "    </tr>\n",
       "    <tr>\n",
       "      <th>11:00-12:00PM</th>\n",
       "      <td>504.000000</td>\n",
       "    </tr>\n",
       "  </tbody>\n",
       "</table>\n",
       "</div>"
      ],
      "text/plain": [
       "               Uber Counts Mean\n",
       "7:00-8:00AM          559.111111\n",
       "8:00-9:00AM          563.611111\n",
       "9:00-10:00AM         505.111111\n",
       "10:00-11:00AM        488.777778\n",
       "11:00-12:00PM        504.000000"
      ]
     },
     "execution_count": 9,
     "metadata": {},
     "output_type": "execute_result"
    }
   ],
   "source": [
    "#Transposing Dataframes for Linear Regression\n",
    "newuber_df = newuber_df.T\n",
    "newuber_df.head()"
   ]
  },
  {
   "cell_type": "code",
   "execution_count": 10,
   "metadata": {},
   "outputs": [
    {
     "data": {
      "text/html": [
       "<div>\n",
       "<style scoped>\n",
       "    .dataframe tbody tr th:only-of-type {\n",
       "        vertical-align: middle;\n",
       "    }\n",
       "\n",
       "    .dataframe tbody tr th {\n",
       "        vertical-align: top;\n",
       "    }\n",
       "\n",
       "    .dataframe thead th {\n",
       "        text-align: right;\n",
       "    }\n",
       "</style>\n",
       "<table border=\"1\" class=\"dataframe\">\n",
       "  <thead>\n",
       "    <tr style=\"text-align: right;\">\n",
       "      <th></th>\n",
       "      <th>Traffic Volume Mean</th>\n",
       "    </tr>\n",
       "  </thead>\n",
       "  <tbody>\n",
       "    <tr>\n",
       "      <th>7:00-8:00AM</th>\n",
       "      <td>586.349986</td>\n",
       "    </tr>\n",
       "    <tr>\n",
       "      <th>8:00-9:00AM</th>\n",
       "      <td>614.890602</td>\n",
       "    </tr>\n",
       "    <tr>\n",
       "      <th>9:00-10:00AM</th>\n",
       "      <td>556.154634</td>\n",
       "    </tr>\n",
       "    <tr>\n",
       "      <th>10:00-11:00AM</th>\n",
       "      <td>530.305455</td>\n",
       "    </tr>\n",
       "    <tr>\n",
       "      <th>11:00-12:00PM</th>\n",
       "      <td>551.968468</td>\n",
       "    </tr>\n",
       "  </tbody>\n",
       "</table>\n",
       "</div>"
      ],
      "text/plain": [
       "               Traffic Volume Mean\n",
       "7:00-8:00AM             586.349986\n",
       "8:00-9:00AM             614.890602\n",
       "9:00-10:00AM            556.154634\n",
       "10:00-11:00AM           530.305455\n",
       "11:00-12:00PM           551.968468"
      ]
     },
     "execution_count": 10,
     "metadata": {},
     "output_type": "execute_result"
    }
   ],
   "source": [
    "newtraffic_df = newtraffic_df.T\n",
    "newtraffic_df.head()"
   ]
  },
  {
   "cell_type": "code",
   "execution_count": 11,
   "metadata": {},
   "outputs": [
    {
     "data": {
      "image/png": "[encoded data removed]",
      "text/plain": [
       "<Figure size 432x288 with 1 Axes>"
      ]
     },
     "metadata": {
      "needs_background": "light"
     },
     "output_type": "display_data"
    }
   ],
   "source": [
    "#Data Visualization for Uber Counts\n",
    "newuber_df.plot.bar()\n",
    "plt.xlabel('Time Ranges')\n",
    "plt.ylabel('Uber Counts Mean')\n",
    "plt.show()"
   ]
  },
  {
   "cell_type": "markdown",
   "metadata": {},
   "source": [
    "Why we chose this data visualization and what it shows us and how it contributes to the question we want to answer and what not"
   ]
  },
  {
   "cell_type": "code",
   "execution_count": 12,
   "metadata": {},
   "outputs": [
    {
     "data": {
      "image/png": "[encoded data removed]",
      "text/plain": [
       "<Figure size 432x288 with 1 Axes>"
      ]
     },
     "metadata": {
      "needs_background": "light"
     },
     "output_type": "display_data"
    }
   ],
   "source": [
    "#Data Visualization for Traffic Volume\n",
    "newtraffic_df.plot.bar()\n",
    "plt.xlabel('Time Ranges')\n",
    "plt.ylabel('Traffic Volume Mean')\n",
    "plt.show()"
   ]
  },
  {
   "cell_type": "markdown",
   "metadata": {},
   "source": [
    "What this shows about this data and how it contributes to answering our initial q"
   ]
  },
  {
   "cell_type": "code",
   "execution_count": 13,
   "metadata": {},
   "outputs": [
    {
     "data": {
      "image/png": "[encoded data removed]",
      "text/plain": [
       "<Figure size 432x288 with 1 Axes>"
      ]
     },
     "metadata": {
      "needs_background": "light"
     },
     "output_type": "display_data"
    }
   ],
   "source": [
    "#Scatterplots\n",
    "\n",
    "plt.scatter(newuber_df, newtraffic_df)\n",
    "plt.xlabel('Uber Ride Counts Mean')\n",
    "plt.ylabel('Traffic Volume in NYC Mean')\n",
    "plt.title('Uber Counts vs Traffic Volume (9/13/2014 - 9/30/2014)')\n",
    "plt.show()"
   ]
  },
  {
   "cell_type": "code",
   "execution_count": 29,
   "metadata": {},
   "outputs": [
    {
     "data": {
      "image/png": "[encoded data removed]",
      "text/plain": [
       "<Figure size 432x288 with 1 Axes>"
      ]
     },
     "metadata": {
      "needs_background": "light"
     },
     "output_type": "display_data"
    }
   ],
   "source": [
    "#writing a permuated y\n",
    "def permuted_y():\n",
    "    return np.random.permutation(newtraffic_df.copy())\n",
    "\n",
    "perm_y_slopes = np.zeros(1000)\n",
    "slopes = np.zeros(1000)\n",
    "\n",
    "for i in range(1000):\n",
    "    perm_y_slopes[i] = LinearRegression().fit(newuber_df, permuted_y()).coef_\n",
    "    \n",
    "plt.hist(perm_y_slopes, bins = 30)\n",
    "plt.show()"
   ]
  },
  {
   "cell_type": "markdown",
   "metadata": {},
   "source": [
    "#explain findings and shit and why we did this "
   ]
  },
  {
   "cell_type": "markdown",
   "metadata": {},
   "source": [
    "why we transposed and what we plan on doing"
   ]
  },
  {
   "cell_type": "code",
   "execution_count": 15,
   "metadata": {},
   "outputs": [
    {
     "name": "stdout",
     "output_type": "stream",
     "text": [
      "The regression slope of model 1 is: [0.50143538]\n",
      "The regression intercept of model 1 is: 310.43764774553574\n",
      "The r-squared of model 1 is: 0.9592810330761794\n"
     ]
    }
   ],
   "source": [
    "#Linear Regression\n",
    "model1 = LinearRegression().fit( newuber_df[['Uber Counts Mean']], newtraffic_df[['Traffic Volume Mean']] )\n",
    "print ('The regression slope of model 1 is:',model1.coef_[0])\n",
    "print ('The regression intercept of model 1 is:',model1.intercept_[0])\n",
    "print ('The r-squared of model 1 is:',model1.score(newuber_df[['Uber Counts Mean']], newtraffic_df[['Traffic Volume Mean']] ))"
   ]
  },
  {
   "cell_type": "markdown",
   "metadata": {},
   "source": [
    "#### Evaluation of significance: Random Y Permutation\n",
    "When we randomized our y-axis it is around zero. The regression slope calculated is closer to 0.5 which is not on the histogram. Therefore, there is a strong implication that the data have strong, linear correlation between the Traffic Volume in NYC and Uber Counts in NYC."
   ]
  },
  {
   "cell_type": "markdown",
   "metadata": {},
   "source": [
    "explain findings and if it agrees with hypothesis and shits "
   ]
  },
  {
   "cell_type": "markdown",
   "metadata": {},
   "source": [
    "### Data Analysis: Analyzing traffic volume and uber counts based on weekday and weekends\n",
    "\n",
    "In this instance, we decided to also analyze the trend for uber counts and traffic volume based on weekends and weekdays. We thought that it would intersting to analyze because people's driving habits should change as most people no longer need to drive to work during a typical 9-5. We noticed, when doing the previous data analysis, that there were some instances when the traffic volume or uber counts was higher than we thought during the weekend. Therefore, we wanted to compare them more directly and analyze the standard deviation.\n",
    "\n",
    "#### Research question: We would like to examine if there is any signfigance difference in the traffic volume and uber pickup counts on a weekday verus the weekend.\n",
    "\n",
    "**Hypothesis**: We predict that there is a difference in traffic volume and uber pickup counts on a weekday verus the weekend. We expect that there are less traffic volume and uber pickup counts on a weekend compared to a weekday because we assume more people stay home on a weekday between the hours 9 AM to 5 PM."
   ]
  },
  {
   "cell_type": "code",
   "execution_count": 16,
   "metadata": {},
   "outputs": [
    {
     "name": "stdout",
     "output_type": "stream",
     "text": [
      "Traffic Volume Means for Days of the Week\n"
     ]
    },
    {
     "data": {
      "text/html": [
       "<div>\n",
       "<style scoped>\n",
       "    .dataframe tbody tr th:only-of-type {\n",
       "        vertical-align: middle;\n",
       "    }\n",
       "\n",
       "    .dataframe tbody tr th {\n",
       "        vertical-align: top;\n",
       "    }\n",
       "\n",
       "    .dataframe thead th {\n",
       "        text-align: right;\n",
       "    }\n",
       "</style>\n",
       "<table border=\"1\" class=\"dataframe\">\n",
       "  <thead>\n",
       "    <tr style=\"text-align: right;\">\n",
       "      <th></th>\n",
       "      <th>7:00-8:00AM</th>\n",
       "      <th>8:00-9:00AM</th>\n",
       "      <th>9:00-10:00AM</th>\n",
       "      <th>10:00-11:00AM</th>\n",
       "      <th>11:00-12:00PM</th>\n",
       "      <th>12:00-1:00PM</th>\n",
       "      <th>1:00-2:00PM</th>\n",
       "      <th>2:00-3:00PM</th>\n",
       "      <th>3:00-4:00PM</th>\n",
       "      <th>4:00-5:00PM</th>\n",
       "      <th>5:00-6:00PM</th>\n",
       "    </tr>\n",
       "  </thead>\n",
       "  <tbody>\n",
       "    <tr>\n",
       "      <th>Monday</th>\n",
       "      <td>338.885435</td>\n",
       "      <td>441.234520</td>\n",
       "      <td>514.164560</td>\n",
       "      <td>556.890051</td>\n",
       "      <td>619.854124</td>\n",
       "      <td>648.026257</td>\n",
       "      <td>659.033453</td>\n",
       "      <td>685.525729</td>\n",
       "      <td>700.393582</td>\n",
       "      <td>707.191435</td>\n",
       "      <td>700.262370</td>\n",
       "    </tr>\n",
       "    <tr>\n",
       "      <th>Tuesday</th>\n",
       "      <td>231.979504</td>\n",
       "      <td>298.937462</td>\n",
       "      <td>392.402233</td>\n",
       "      <td>499.815759</td>\n",
       "      <td>571.181532</td>\n",
       "      <td>614.820089</td>\n",
       "      <td>630.235437</td>\n",
       "      <td>653.224793</td>\n",
       "      <td>672.026826</td>\n",
       "      <td>691.146545</td>\n",
       "      <td>676.166988</td>\n",
       "    </tr>\n",
       "    <tr>\n",
       "      <th>Wednesday</th>\n",
       "      <td>755.132745</td>\n",
       "      <td>769.442389</td>\n",
       "      <td>617.319920</td>\n",
       "      <td>534.335662</td>\n",
       "      <td>521.806328</td>\n",
       "      <td>542.224339</td>\n",
       "      <td>570.502122</td>\n",
       "      <td>641.446381</td>\n",
       "      <td>726.588374</td>\n",
       "      <td>771.610148</td>\n",
       "      <td>779.507000</td>\n",
       "    </tr>\n",
       "    <tr>\n",
       "      <th>Thursday</th>\n",
       "      <td>756.832441</td>\n",
       "      <td>743.734261</td>\n",
       "      <td>626.015324</td>\n",
       "      <td>538.773625</td>\n",
       "      <td>528.894363</td>\n",
       "      <td>534.586922</td>\n",
       "      <td>560.073950</td>\n",
       "      <td>633.072134</td>\n",
       "      <td>714.043707</td>\n",
       "      <td>763.237066</td>\n",
       "      <td>768.660005</td>\n",
       "    </tr>\n",
       "    <tr>\n",
       "      <th>Friday</th>\n",
       "      <td>755.302489</td>\n",
       "      <td>744.372502</td>\n",
       "      <td>603.198821</td>\n",
       "      <td>522.780789</td>\n",
       "      <td>535.493040</td>\n",
       "      <td>555.950459</td>\n",
       "      <td>579.631756</td>\n",
       "      <td>663.021209</td>\n",
       "      <td>754.297003</td>\n",
       "      <td>793.666721</td>\n",
       "      <td>806.024075</td>\n",
       "    </tr>\n",
       "  </tbody>\n",
       "</table>\n",
       "</div>"
      ],
      "text/plain": [
       "           7:00-8:00AM  8:00-9:00AM  9:00-10:00AM  10:00-11:00AM  \\\n",
       "Monday      338.885435   441.234520    514.164560     556.890051   \n",
       "Tuesday     231.979504   298.937462    392.402233     499.815759   \n",
       "Wednesday   755.132745   769.442389    617.319920     534.335662   \n",
       "Thursday    756.832441   743.734261    626.015324     538.773625   \n",
       "Friday      755.302489   744.372502    603.198821     522.780789   \n",
       "\n",
       "           11:00-12:00PM  12:00-1:00PM  1:00-2:00PM  2:00-3:00PM  3:00-4:00PM  \\\n",
       "Monday        619.854124    648.026257   659.033453   685.525729   700.393582   \n",
       "Tuesday       571.181532    614.820089   630.235437   653.224793   672.026826   \n",
       "Wednesday     521.806328    542.224339   570.502122   641.446381   726.588374   \n",
       "Thursday      528.894363    534.586922   560.073950   633.072134   714.043707   \n",
       "Friday        535.493040    555.950459   579.631756   663.021209   754.297003   \n",
       "\n",
       "           4:00-5:00PM  5:00-6:00PM  \n",
       "Monday      707.191435   700.262370  \n",
       "Tuesday     691.146545   676.166988  \n",
       "Wednesday   771.610148   779.507000  \n",
       "Thursday    763.237066   768.660005  \n",
       "Friday      793.666721   806.024075  "
      ]
     },
     "execution_count": 16,
     "metadata": {},
     "output_type": "execute_result"
    }
   ],
   "source": [
    "#separating traffic data into weekdays and weekends\n",
    "days  = ['Monday', 'Tuesday', 'Wednesday', 'Thursday', 'Friday', 'Saturday', 'Sunday']\n",
    "day_of_week_mean = np.zeros((7,11))\n",
    "for i in range(len(days)):\n",
    "    day = 13 + i\n",
    "    dates = day + 7*(np.arange(np.floor((30-day)/7)+1))\n",
    "    day_list = [str(int(a)) for a in dates]\n",
    "    day_list = list(map(lambda x : \"9/{}/2014\".format(x), day_list))\n",
    "    day_traf = np.zeros(11)\n",
    "    for d in day_list:\n",
    "        day_traf += traffic_mean.loc[d]\n",
    "    \n",
    "    day_of_week_mean[i, :] = day_traf/len(day_list)\n",
    "    \n",
    "# print(day_of_week_mean)\n",
    "# #     uber days of the week dataframe\n",
    "traffic_day_of_week = pd.DataFrame(day_of_week_mean, columns = time_list, index = days)\n",
    "print (\"Traffic Volume Means for Days of the Week\")\n",
    "traffic_day_of_week.head()"
   ]
  },
  {
   "cell_type": "code",
   "execution_count": 17,
   "metadata": {},
   "outputs": [
    {
     "name": "stdout",
     "output_type": "stream",
     "text": [
      "Uber Count Means for Days of the Week\n"
     ]
    },
    {
     "data": {
      "text/html": [
       "<div>\n",
       "<style scoped>\n",
       "    .dataframe tbody tr th:only-of-type {\n",
       "        vertical-align: middle;\n",
       "    }\n",
       "\n",
       "    .dataframe tbody tr th {\n",
       "        vertical-align: top;\n",
       "    }\n",
       "\n",
       "    .dataframe thead th {\n",
       "        text-align: right;\n",
       "    }\n",
       "</style>\n",
       "<table border=\"1\" class=\"dataframe\">\n",
       "  <thead>\n",
       "    <tr style=\"text-align: right;\">\n",
       "      <th></th>\n",
       "      <th>7:00-8:00AM</th>\n",
       "      <th>8:00-9:00AM</th>\n",
       "      <th>9:00-10:00AM</th>\n",
       "      <th>10:00-11:00AM</th>\n",
       "      <th>11:00-12:00PM</th>\n",
       "      <th>12:00-1:00PM</th>\n",
       "      <th>1:00-2:00PM</th>\n",
       "      <th>2:00-3:00PM</th>\n",
       "      <th>3:00-4:00PM</th>\n",
       "      <th>4:00-5:00PM</th>\n",
       "      <th>5:00-6:00PM</th>\n",
       "    </tr>\n",
       "  </thead>\n",
       "  <tbody>\n",
       "    <tr>\n",
       "      <th>Monday</th>\n",
       "      <td>279.0</td>\n",
       "      <td>361.0</td>\n",
       "      <td>456.0</td>\n",
       "      <td>511.0</td>\n",
       "      <td>557.0</td>\n",
       "      <td>591.0</td>\n",
       "      <td>690.0</td>\n",
       "      <td>861.0</td>\n",
       "      <td>957.0</td>\n",
       "      <td>1026.0</td>\n",
       "      <td>1083.0</td>\n",
       "    </tr>\n",
       "    <tr>\n",
       "      <th>Tuesday</th>\n",
       "      <td>231.0</td>\n",
       "      <td>304.0</td>\n",
       "      <td>370.0</td>\n",
       "      <td>434.0</td>\n",
       "      <td>533.0</td>\n",
       "      <td>556.0</td>\n",
       "      <td>594.0</td>\n",
       "      <td>610.0</td>\n",
       "      <td>656.0</td>\n",
       "      <td>687.0</td>\n",
       "      <td>679.0</td>\n",
       "    </tr>\n",
       "    <tr>\n",
       "      <th>Wednesday</th>\n",
       "      <td>630.0</td>\n",
       "      <td>629.0</td>\n",
       "      <td>503.0</td>\n",
       "      <td>416.0</td>\n",
       "      <td>427.0</td>\n",
       "      <td>419.0</td>\n",
       "      <td>474.0</td>\n",
       "      <td>569.0</td>\n",
       "      <td>660.0</td>\n",
       "      <td>756.0</td>\n",
       "      <td>804.0</td>\n",
       "    </tr>\n",
       "    <tr>\n",
       "      <th>Thursday</th>\n",
       "      <td>770.0</td>\n",
       "      <td>753.0</td>\n",
       "      <td>589.0</td>\n",
       "      <td>533.0</td>\n",
       "      <td>473.0</td>\n",
       "      <td>437.0</td>\n",
       "      <td>527.0</td>\n",
       "      <td>632.0</td>\n",
       "      <td>793.0</td>\n",
       "      <td>845.0</td>\n",
       "      <td>953.0</td>\n",
       "    </tr>\n",
       "    <tr>\n",
       "      <th>Friday</th>\n",
       "      <td>696.0</td>\n",
       "      <td>611.0</td>\n",
       "      <td>482.0</td>\n",
       "      <td>466.0</td>\n",
       "      <td>465.0</td>\n",
       "      <td>466.0</td>\n",
       "      <td>549.0</td>\n",
       "      <td>644.0</td>\n",
       "      <td>742.0</td>\n",
       "      <td>884.0</td>\n",
       "      <td>986.0</td>\n",
       "    </tr>\n",
       "  </tbody>\n",
       "</table>\n",
       "</div>"
      ],
      "text/plain": [
       "           7:00-8:00AM  8:00-9:00AM  9:00-10:00AM  10:00-11:00AM  \\\n",
       "Monday           279.0        361.0         456.0          511.0   \n",
       "Tuesday          231.0        304.0         370.0          434.0   \n",
       "Wednesday        630.0        629.0         503.0          416.0   \n",
       "Thursday         770.0        753.0         589.0          533.0   \n",
       "Friday           696.0        611.0         482.0          466.0   \n",
       "\n",
       "           11:00-12:00PM  12:00-1:00PM  1:00-2:00PM  2:00-3:00PM  3:00-4:00PM  \\\n",
       "Monday             557.0         591.0        690.0        861.0        957.0   \n",
       "Tuesday            533.0         556.0        594.0        610.0        656.0   \n",
       "Wednesday          427.0         419.0        474.0        569.0        660.0   \n",
       "Thursday           473.0         437.0        527.0        632.0        793.0   \n",
       "Friday             465.0         466.0        549.0        644.0        742.0   \n",
       "\n",
       "           4:00-5:00PM  5:00-6:00PM  \n",
       "Monday          1026.0       1083.0  \n",
       "Tuesday          687.0        679.0  \n",
       "Wednesday        756.0        804.0  \n",
       "Thursday         845.0        953.0  \n",
       "Friday           884.0        986.0  "
      ]
     },
     "execution_count": 17,
     "metadata": {},
     "output_type": "execute_result"
    }
   ],
   "source": [
    "#separating data into weekdays and weekends\n",
    "days  = ['Monday', 'Tuesday', 'Wednesday', 'Thursday', 'Friday', 'Saturday', 'Sunday']\n",
    "uber_day_of_week_mean = np.zeros((7,11))\n",
    "for i in range(len(days)):\n",
    "    day = 13 + i\n",
    "    dates = day + 7*(np.arange(np.floor((30-day)/7)+1))\n",
    "    day_list = [str(int(a)) for a in dates]\n",
    "    day_list = list(map(lambda x : \"9/{}/2014\".format(x), day_list))\n",
    "    u_day = np.zeros(11)\n",
    "    for d in day_list:\n",
    "        u_day += uber_counts.loc[d]\n",
    "    \n",
    "    uber_day_of_week_mean[i, :] = np.round(u_day/len(day_list))\n",
    "\n",
    "\n",
    "\n",
    "#     uber days of the week dataframe\n",
    "uber_day_of_week = pd.DataFrame(uber_day_of_week_mean, columns = time_list, index = days)\n",
    "print (\"Uber Count Means for Days of the Week\")\n",
    "uber_day_of_week.head()"
   ]
  },
  {
   "cell_type": "code",
   "execution_count": 18,
   "metadata": {},
   "outputs": [
    {
     "data": {
      "text/html": [
       "<div>\n",
       "<style scoped>\n",
       "    .dataframe tbody tr th:only-of-type {\n",
       "        vertical-align: middle;\n",
       "    }\n",
       "\n",
       "    .dataframe tbody tr th {\n",
       "        vertical-align: top;\n",
       "    }\n",
       "\n",
       "    .dataframe thead th {\n",
       "        text-align: right;\n",
       "    }\n",
       "</style>\n",
       "<table border=\"1\" class=\"dataframe\">\n",
       "  <thead>\n",
       "    <tr style=\"text-align: right;\">\n",
       "      <th></th>\n",
       "      <th>7:00-8:00AM</th>\n",
       "      <th>8:00-9:00AM</th>\n",
       "      <th>9:00-10:00AM</th>\n",
       "      <th>10:00-11:00AM</th>\n",
       "      <th>11:00-12:00PM</th>\n",
       "      <th>12:00-1:00PM</th>\n",
       "      <th>1:00-2:00PM</th>\n",
       "      <th>2:00-3:00PM</th>\n",
       "      <th>3:00-4:00PM</th>\n",
       "      <th>4:00-5:00PM</th>\n",
       "      <th>5:00-6:00PM</th>\n",
       "    </tr>\n",
       "  </thead>\n",
       "  <tbody>\n",
       "    <tr>\n",
       "      <th>Traffic Weekday Mean</th>\n",
       "      <td>567.626523</td>\n",
       "      <td>599.544227</td>\n",
       "      <td>550.620171</td>\n",
       "      <td>530.519177</td>\n",
       "      <td>555.445877</td>\n",
       "      <td>579.121613</td>\n",
       "      <td>599.895343</td>\n",
       "      <td>655.258049</td>\n",
       "      <td>713.469899</td>\n",
       "      <td>745.370383</td>\n",
       "      <td>746.124087</td>\n",
       "    </tr>\n",
       "  </tbody>\n",
       "</table>\n",
       "</div>"
      ],
      "text/plain": [
       "                      7:00-8:00AM  8:00-9:00AM  9:00-10:00AM  10:00-11:00AM  \\\n",
       "Traffic Weekday Mean   567.626523   599.544227    550.620171     530.519177   \n",
       "\n",
       "                      11:00-12:00PM  12:00-1:00PM  1:00-2:00PM  2:00-3:00PM  \\\n",
       "Traffic Weekday Mean     555.445877    579.121613   599.895343   655.258049   \n",
       "\n",
       "                      3:00-4:00PM  4:00-5:00PM  5:00-6:00PM  \n",
       "Traffic Weekday Mean   713.469899   745.370383   746.124087  "
      ]
     },
     "execution_count": 18,
     "metadata": {},
     "output_type": "execute_result"
    }
   ],
   "source": [
    "#wdy is \"weekday\", wkd is \"weekend\", u is uber, and t is traffic\n",
    "\n",
    "t_wdy_mean = pd.DataFrame(traffic_day_of_week.iloc[:5, :].mean().to_dict(),index=[traffic_day_of_week.index.values[-1]])\n",
    "t_wdy_mean = t_wdy_mean.rename(index = {'Sunday':'Traffic Weekday Mean'})\n",
    "t_wdy_mean.head()"
   ]
  },
  {
   "cell_type": "code",
   "execution_count": 19,
   "metadata": {},
   "outputs": [
    {
     "data": {
      "text/html": [
       "<div>\n",
       "<style scoped>\n",
       "    .dataframe tbody tr th:only-of-type {\n",
       "        vertical-align: middle;\n",
       "    }\n",
       "\n",
       "    .dataframe tbody tr th {\n",
       "        vertical-align: top;\n",
       "    }\n",
       "\n",
       "    .dataframe thead th {\n",
       "        text-align: right;\n",
       "    }\n",
       "</style>\n",
       "<table border=\"1\" class=\"dataframe\">\n",
       "  <thead>\n",
       "    <tr style=\"text-align: right;\">\n",
       "      <th></th>\n",
       "      <th>7:00-8:00AM</th>\n",
       "      <th>8:00-9:00AM</th>\n",
       "      <th>9:00-10:00AM</th>\n",
       "      <th>10:00-11:00AM</th>\n",
       "      <th>11:00-12:00PM</th>\n",
       "      <th>12:00-1:00PM</th>\n",
       "      <th>1:00-2:00PM</th>\n",
       "      <th>2:00-3:00PM</th>\n",
       "      <th>3:00-4:00PM</th>\n",
       "      <th>4:00-5:00PM</th>\n",
       "      <th>5:00-6:00PM</th>\n",
       "    </tr>\n",
       "  </thead>\n",
       "  <tbody>\n",
       "    <tr>\n",
       "      <th>Traffic Weekend Mean</th>\n",
       "      <td>698.801097</td>\n",
       "      <td>704.809982</td>\n",
       "      <td>588.669915</td>\n",
       "      <td>527.62283</td>\n",
       "      <td>534.809327</td>\n",
       "      <td>562.831068</td>\n",
       "      <td>595.791353</td>\n",
       "      <td>675.449517</td>\n",
       "      <td>746.27215</td>\n",
       "      <td>782.046143</td>\n",
       "      <td>800.282181</td>\n",
       "    </tr>\n",
       "  </tbody>\n",
       "</table>\n",
       "</div>"
      ],
      "text/plain": [
       "                      7:00-8:00AM  8:00-9:00AM  9:00-10:00AM  10:00-11:00AM  \\\n",
       "Traffic Weekend Mean   698.801097   704.809982    588.669915      527.62283   \n",
       "\n",
       "                      11:00-12:00PM  12:00-1:00PM  1:00-2:00PM  2:00-3:00PM  \\\n",
       "Traffic Weekend Mean     534.809327    562.831068   595.791353   675.449517   \n",
       "\n",
       "                      3:00-4:00PM  4:00-5:00PM  5:00-6:00PM  \n",
       "Traffic Weekend Mean    746.27215   782.046143   800.282181  "
      ]
     },
     "execution_count": 19,
     "metadata": {},
     "output_type": "execute_result"
    }
   ],
   "source": [
    "t_wkd_mean = pd.DataFrame(traffic_day_of_week.iloc[5:7, :].mean().to_dict(),index=[traffic_day_of_week.index.values[-1]])\n",
    "t_wkd_mean = t_wkd_mean.rename(index = {'Sunday':'Traffic Weekend Mean'})\n",
    "t_wkd_mean.head()"
   ]
  },
  {
   "cell_type": "code",
   "execution_count": 20,
   "metadata": {},
   "outputs": [
    {
     "data": {
      "text/html": [
       "<div>\n",
       "<style scoped>\n",
       "    .dataframe tbody tr th:only-of-type {\n",
       "        vertical-align: middle;\n",
       "    }\n",
       "\n",
       "    .dataframe tbody tr th {\n",
       "        vertical-align: top;\n",
       "    }\n",
       "\n",
       "    .dataframe thead th {\n",
       "        text-align: right;\n",
       "    }\n",
       "</style>\n",
       "<table border=\"1\" class=\"dataframe\">\n",
       "  <thead>\n",
       "    <tr style=\"text-align: right;\">\n",
       "      <th></th>\n",
       "      <th>7:00-8:00AM</th>\n",
       "      <th>8:00-9:00AM</th>\n",
       "      <th>9:00-10:00AM</th>\n",
       "      <th>10:00-11:00AM</th>\n",
       "      <th>11:00-12:00PM</th>\n",
       "      <th>12:00-1:00PM</th>\n",
       "      <th>1:00-2:00PM</th>\n",
       "      <th>2:00-3:00PM</th>\n",
       "      <th>3:00-4:00PM</th>\n",
       "      <th>4:00-5:00PM</th>\n",
       "      <th>5:00-6:00PM</th>\n",
       "    </tr>\n",
       "  </thead>\n",
       "  <tbody>\n",
       "    <tr>\n",
       "      <th>Uber Weekday Mean</th>\n",
       "      <td>521.2</td>\n",
       "      <td>531.6</td>\n",
       "      <td>480.0</td>\n",
       "      <td>472.0</td>\n",
       "      <td>491.0</td>\n",
       "      <td>493.8</td>\n",
       "      <td>566.8</td>\n",
       "      <td>663.2</td>\n",
       "      <td>761.6</td>\n",
       "      <td>839.6</td>\n",
       "      <td>901.0</td>\n",
       "    </tr>\n",
       "  </tbody>\n",
       "</table>\n",
       "</div>"
      ],
      "text/plain": [
       "                   7:00-8:00AM  8:00-9:00AM  9:00-10:00AM  10:00-11:00AM  \\\n",
       "Uber Weekday Mean        521.2        531.6         480.0          472.0   \n",
       "\n",
       "                   11:00-12:00PM  12:00-1:00PM  1:00-2:00PM  2:00-3:00PM  \\\n",
       "Uber Weekday Mean          491.0         493.8        566.8        663.2   \n",
       "\n",
       "                   3:00-4:00PM  4:00-5:00PM  5:00-6:00PM  \n",
       "Uber Weekday Mean        761.6        839.6        901.0  "
      ]
     },
     "execution_count": 20,
     "metadata": {},
     "output_type": "execute_result"
    }
   ],
   "source": [
    "u_wdy_mean = pd.DataFrame(uber_day_of_week.iloc[:5, :].mean().to_dict(),index=[traffic_day_of_week.index.values[-1]])\n",
    "u_wdy_mean = u_wdy_mean.rename(index = {'Sunday':'Uber Weekday Mean'})\n",
    "u_wdy_mean.head()"
   ]
  },
  {
   "cell_type": "code",
   "execution_count": 21,
   "metadata": {},
   "outputs": [
    {
     "data": {
      "text/html": [
       "<div>\n",
       "<style scoped>\n",
       "    .dataframe tbody tr th:only-of-type {\n",
       "        vertical-align: middle;\n",
       "    }\n",
       "\n",
       "    .dataframe tbody tr th {\n",
       "        vertical-align: top;\n",
       "    }\n",
       "\n",
       "    .dataframe thead th {\n",
       "        text-align: right;\n",
       "    }\n",
       "</style>\n",
       "<table border=\"1\" class=\"dataframe\">\n",
       "  <thead>\n",
       "    <tr style=\"text-align: right;\">\n",
       "      <th></th>\n",
       "      <th>7:00-8:00AM</th>\n",
       "      <th>8:00-9:00AM</th>\n",
       "      <th>9:00-10:00AM</th>\n",
       "      <th>10:00-11:00AM</th>\n",
       "      <th>11:00-12:00PM</th>\n",
       "      <th>12:00-1:00PM</th>\n",
       "      <th>1:00-2:00PM</th>\n",
       "      <th>2:00-3:00PM</th>\n",
       "      <th>3:00-4:00PM</th>\n",
       "      <th>4:00-5:00PM</th>\n",
       "      <th>5:00-6:00PM</th>\n",
       "    </tr>\n",
       "  </thead>\n",
       "  <tbody>\n",
       "    <tr>\n",
       "      <th>Uber Weekend Mean</th>\n",
       "      <td>736.0</td>\n",
       "      <td>695.0</td>\n",
       "      <td>593.0</td>\n",
       "      <td>546.5</td>\n",
       "      <td>543.0</td>\n",
       "      <td>529.0</td>\n",
       "      <td>601.5</td>\n",
       "      <td>706.0</td>\n",
       "      <td>817.5</td>\n",
       "      <td>966.5</td>\n",
       "      <td>1083.5</td>\n",
       "    </tr>\n",
       "  </tbody>\n",
       "</table>\n",
       "</div>"
      ],
      "text/plain": [
       "                   7:00-8:00AM  8:00-9:00AM  9:00-10:00AM  10:00-11:00AM  \\\n",
       "Uber Weekend Mean        736.0        695.0         593.0          546.5   \n",
       "\n",
       "                   11:00-12:00PM  12:00-1:00PM  1:00-2:00PM  2:00-3:00PM  \\\n",
       "Uber Weekend Mean          543.0         529.0        601.5        706.0   \n",
       "\n",
       "                   3:00-4:00PM  4:00-5:00PM  5:00-6:00PM  \n",
       "Uber Weekend Mean        817.5        966.5       1083.5  "
      ]
     },
     "execution_count": 21,
     "metadata": {},
     "output_type": "execute_result"
    }
   ],
   "source": [
    "u_wkd_mean = pd.DataFrame(uber_day_of_week.iloc[5:7, :].mean().to_dict(),index=[traffic_day_of_week.index.values[-1]])\n",
    "u_wkd_mean = u_wkd_mean.rename(index = {'Sunday':'Uber Weekend Mean'})\n",
    "u_wkd_mean.head()"
   ]
  },
  {
   "cell_type": "code",
   "execution_count": 22,
   "metadata": {},
   "outputs": [
    {
     "data": {
      "image/png": "[encoded data removed]",
      "text/plain": [
       "<Figure size 432x288 with 1 Axes>"
      ]
     },
     "metadata": {
      "needs_background": "light"
     },
     "output_type": "display_data"
    }
   ],
   "source": [
    "#combinded data frame of traffic on weekends and weekdays\n",
    "#dow means days of the week\n",
    "frames = [t_wdy_mean, t_wkd_mean]\n",
    "t_dow_mean = pd.concat(frames)\n",
    "t_dow_mean.T.plot.bar()\n",
    "plt.title('Traffic Volume on Weekdays vs Weekends')\n",
    "plt.show()"
   ]
  },
  {
   "cell_type": "code",
   "execution_count": 23,
   "metadata": {},
   "outputs": [
    {
     "data": {
      "image/png": "[encoded data removed]",
      "text/plain": [
       "<Figure size 432x288 with 1 Axes>"
      ]
     },
     "metadata": {
      "needs_background": "light"
     },
     "output_type": "display_data"
    }
   ],
   "source": [
    "#combinded data frame of uber counts on weekends and weekdays\n",
    "#dow means days of the week\n",
    "frames = [u_wdy_mean, u_wkd_mean]\n",
    "u_dow_mean = pd.concat(frames)\n",
    "u_dow_mean.T.plot.bar()\n",
    "plt.title('Uber Counts on Weekdays vs Weekends')\n",
    "plt.show()"
   ]
  },
  {
   "cell_type": "code",
   "execution_count": 45,
   "metadata": {},
   "outputs": [
    {
     "name": "stdout",
     "output_type": "stream",
     "text": [
      "Traffic standard deviation for weekday:\n",
      " 7:00-8:00AM      260.365674\n",
      "8:00-9:00AM      215.672072\n",
      "9:00-10:00AM      99.070338\n",
      "10:00-11:00AM     21.099212\n",
      "11:00-12:00PM     40.714712\n",
      "12:00-1:00PM      49.759122\n",
      "1:00-2:00PM       42.656052\n",
      "2:00-3:00PM       20.393076\n",
      "3:00-4:00PM       30.527833\n",
      "4:00-5:00PM       43.983340\n",
      "5:00-6:00PM       55.243976\n",
      "dtype: float64\n",
      "\n",
      "Traffic standard deviation for weekend:\n",
      " 7:00-8:00AM       5.021663\n",
      "8:00-9:00AM       4.543792\n",
      "9:00-10:00AM      7.498852\n",
      "10:00-11:00AM    11.759559\n",
      "11:00-12:00PM    29.333409\n",
      "12:00-1:00PM     37.169081\n",
      "1:00-2:00PM      45.380019\n",
      "2:00-3:00PM      48.358356\n",
      "3:00-4:00PM      52.728267\n",
      "4:00-5:00PM      29.243081\n",
      "5:00-6:00PM      20.485368\n",
      "dtype: float64\n"
     ]
    }
   ],
   "source": [
    "print (\"Traffic standard deviation for weekday:\\n\",traffic_day_of_week.iloc[:5, :].std())\n",
    "\n",
    "print(\"\\nTraffic standard deviation for weekend:\\n\",traffic_day_of_week.iloc[5:7, :].std())"
   ]
  },
  {
   "cell_type": "code",
   "execution_count": 46,
   "metadata": {},
   "outputs": [
    {
     "name": "stdout",
     "output_type": "stream",
     "text": [
      "Uber standard deviation for weekday:\n",
      " 7:00-8:00AM      248.581375\n",
      "8:00-9:00AM      190.863302\n",
      "9:00-10:00AM      79.199116\n",
      "10:00-11:00AM     49.643731\n",
      "11:00-12:00PM     52.952809\n",
      "12:00-1:00PM      75.681570\n",
      "1:00-2:00PM       81.287760\n",
      "2:00-3:00PM      114.204641\n",
      "3:00-4:00PM      123.516396\n",
      "4:00-5:00PM      129.442265\n",
      "5:00-6:00PM      159.488244\n",
      "dtype: float64\n",
      "\n",
      "Uber standard deviation for weekend:\n",
      " 7:00-8:00AM      175.362482\n",
      "8:00-9:00AM      162.634560\n",
      "9:00-10:00AM     115.965512\n",
      "10:00-11:00AM     79.903066\n",
      "11:00-12:00PM     80.610173\n",
      "12:00-1:00PM      52.325902\n",
      "1:00-2:00PM       36.062446\n",
      "2:00-3:00PM       22.627417\n",
      "3:00-4:00PM       12.020815\n",
      "4:00-5:00PM       51.618795\n",
      "5:00-6:00PM       24.748737\n",
      "dtype: float64\n"
     ]
    }
   ],
   "source": [
    "print (\"Uber standard deviation for weekday:\\n\",uber_day_of_week.iloc[:5, :].std())\n",
    "\n",
    "print(\"\\nUber standard deviation for weekend:\\n\",uber_day_of_week.iloc[5:7, :].std())"
   ]
  }
 ],
 "metadata": {
  "kernelspec": {
   "display_name": "Python 3",
   "language": "python",
   "name": "python3"
  },
  "language_info": {
   "codemirror_mode": {
    "name": "ipython",
    "version": 3
   },
   "file_extension": ".py",
   "mimetype": "text/x-python",
   "name": "python",
   "nbconvert_exporter": "python",
   "pygments_lexer": "ipython3",
   "version": "3.7.6"
  }
 },
 "nbformat": 4,
 "nbformat_minor": 2
}
