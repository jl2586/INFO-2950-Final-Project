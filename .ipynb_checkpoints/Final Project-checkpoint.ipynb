{
 "cells": [
  {
   "cell_type": "code",
   "execution_count": 1,
   "metadata": {},
   "outputs": [],
   "source": [
    "import pandas as pd\n",
    "import numpy as np\n",
    "import scipy\n",
    "import matplotlib.pyplot as plt\n",
    "from sklearn.linear_model import LinearRegression\n",
    "from sklearn.metrics import r2_score\n",
    "from scipy import stats"
   ]
  },
  {
   "cell_type": "code",
   "execution_count": 2,
   "metadata": {},
   "outputs": [
    {
     "data": {
      "application/javascript": [
       "let words = 0;\n",
       "Jupyter.notebook.get_cells().forEach(cell => {if (cell.cell_type == \"markdown\") { words += cell.element[0].innerText.split(\" \").length }})\n",
       "element.text(\"markdown words: \" + words)\n"
      ],
      "text/plain": [
       "<IPython.core.display.Javascript object>"
      ]
     },
     "metadata": {},
     "output_type": "display_data"
    }
   ],
   "source": [
    "%%javascript\n",
    "let words = 0;\n",
    "Jupyter.notebook.get_cells().forEach(cell => {if (cell.cell_type == \"markdown\") { words += cell.element[0].innerText.split(\" \").length }})\n",
    "element.text(\"markdown words: \" + words)"
   ]
  },
  {
   "cell_type": "markdown",
   "metadata": {},
   "source": [
    "# Introduction\n",
    "\n",
    "__Setting__: Our subject for this project was finding a possible correlation between the number of Uber pick-ups and traffic volume for a given time range from 7:00AM to 6:00PM split by hour. The questions we wanted to ask were: __does the number of uber pickups have any correlation with traffic volume at the same time?__ and __is there any signficant difference in the traffic volume and uber pickup counts on a weekday verus the weekend?__ We hypothesize that uber pickup and traffic volume will be inversely correlated because the more traffic there are, people would be less likely to call an uber to get to places. As for our second hypothesis, we believe there will be less people out on weekends since there will be less people commuting to work. \n",
    "\n",
    "As clarification, the uber data we are working with is the number of uber pick-ups for a specific time range. As for traffic volume data, we looked at the mean traffic volume corresponding to a specific time range each day. We picked 7 AM - 6 PM becuase it is the typical workday for an employee. Finally, our data is spread from 9/13/2014 to 9/30/2014 as that was the only overlap between the two data sets we used, but they also showed the most variation.\n",
    "\n",
    "__Findings__: After conducting two different kinds of analyses to answer our above questions, our hypotheses were proven wrong. Surprisingly, uber pickup counts and traffic volume mean were positively correlated. Moreover, there was a significant difference between weekends and weekdays for uber counts and traffic volume mean.\n",
    "\n",
    "__Why this matters__: The findings show that when there is high traffic volume, there are more uber pickups which suggest that traffic does not deter individuals from calling ubers to get to their final destinations. Moreover, the findings also show that weekends seem to be more popular for excursions than the normal weekday for commuters. These findings could also be used to determine the best times to avoid traffic and determine the day that has the least traffic in the week. We can also see the standard \"9:00AM to 5:00PM\" workday is consistent with general beliefs. \n",
    "\n",
    "Uber Data Source: https://data.world/data-society/uber-pickups-in-nyc\n",
    "\n",
    "Traffic Volume Data Source: https://catalog.data.gov/dataset/traffic-volume-counts-2014-2018"
   ]
  },
  {
   "cell_type": "code",
   "execution_count": 3,
   "metadata": {},
   "outputs": [
    {
     "name": "stdout",
     "output_type": "stream",
     "text": [
      "Index(['ID', 'Segment ID', 'Roadway Name', 'From', 'To', 'Direction', 'Date',\n",
      "       '12:00-1:00 AM', '1:00-2:00AM', '2:00-3:00AM', '3:00-4:00AM',\n",
      "       '4:00-5:00AM', '5:00-6:00AM', '6:00-7:00AM', '7:00-8:00AM',\n",
      "       '8:00-9:00AM', '9:00-10:00AM', '10:00-11:00AM', '11:00-12:00PM',\n",
      "       '12:00-1:00PM', '1:00-2:00PM', '2:00-3:00PM', '3:00-4:00PM',\n",
      "       '4:00-5:00PM', '5:00-6:00PM', '6:00-7:00PM', '7:00-8:00PM',\n",
      "       '8:00-9:00PM', '9:00-10:00PM', '10:00-11:00PM', '11:00-12:00AM'],\n",
      "      dtype='object')\n"
     ]
    }
   ],
   "source": [
    "traffic_volume_raw = pd.read_csv(\"Traffic_Volume_Counts__2014-2018_.csv\")\n",
    "traffic_volume_raw.head()\n",
    "print(traffic_volume_raw.columns)"
   ]
  },
  {
   "cell_type": "code",
   "execution_count": 4,
   "metadata": {
    "scrolled": true
   },
   "outputs": [
    {
     "data": {
      "text/html": [
       "<div>\n",
       "<style scoped>\n",
       "    .dataframe tbody tr th:only-of-type {\n",
       "        vertical-align: middle;\n",
       "    }\n",
       "\n",
       "    .dataframe tbody tr th {\n",
       "        vertical-align: top;\n",
       "    }\n",
       "\n",
       "    .dataframe thead th {\n",
       "        text-align: right;\n",
       "    }\n",
       "</style>\n",
       "<table border=\"1\" class=\"dataframe\">\n",
       "  <thead>\n",
       "    <tr style=\"text-align: right;\">\n",
       "      <th></th>\n",
       "      <th>ID</th>\n",
       "      <th>Segment ID</th>\n",
       "      <th>Roadway Name</th>\n",
       "      <th>From</th>\n",
       "      <th>To</th>\n",
       "      <th>Direction</th>\n",
       "      <th>Date</th>\n",
       "      <th>7:00-8:00AM</th>\n",
       "      <th>8:00-9:00AM</th>\n",
       "      <th>9:00-10:00AM</th>\n",
       "      <th>10:00-11:00AM</th>\n",
       "      <th>11:00-12:00PM</th>\n",
       "      <th>12:00-1:00PM</th>\n",
       "      <th>1:00-2:00PM</th>\n",
       "      <th>2:00-3:00PM</th>\n",
       "      <th>3:00-4:00PM</th>\n",
       "      <th>4:00-5:00PM</th>\n",
       "      <th>5:00-6:00PM</th>\n",
       "    </tr>\n",
       "  </thead>\n",
       "  <tbody>\n",
       "    <tr>\n",
       "      <td>0</td>\n",
       "      <td>2</td>\n",
       "      <td>70376</td>\n",
       "      <td>3 Avenue</td>\n",
       "      <td>East 154 Street</td>\n",
       "      <td>East 155 Street</td>\n",
       "      <td>NB</td>\n",
       "      <td>9/13/2014</td>\n",
       "      <td>180.0</td>\n",
       "      <td>223.0</td>\n",
       "      <td>272.0</td>\n",
       "      <td>386.0</td>\n",
       "      <td>339.0</td>\n",
       "      <td>513</td>\n",
       "      <td>506</td>\n",
       "      <td>520</td>\n",
       "      <td>611</td>\n",
       "      <td>573</td>\n",
       "      <td>546</td>\n",
       "    </tr>\n",
       "    <tr>\n",
       "      <td>1</td>\n",
       "      <td>2</td>\n",
       "      <td>70376</td>\n",
       "      <td>3 Avenue</td>\n",
       "      <td>East 155 Street</td>\n",
       "      <td>East 154 Street</td>\n",
       "      <td>SB</td>\n",
       "      <td>9/13/2014</td>\n",
       "      <td>219.0</td>\n",
       "      <td>226.0</td>\n",
       "      <td>273.0</td>\n",
       "      <td>317.0</td>\n",
       "      <td>325.0</td>\n",
       "      <td>403</td>\n",
       "      <td>414</td>\n",
       "      <td>379</td>\n",
       "      <td>376</td>\n",
       "      <td>329</td>\n",
       "      <td>362</td>\n",
       "    </tr>\n",
       "    <tr>\n",
       "      <td>2</td>\n",
       "      <td>56</td>\n",
       "      <td>176365</td>\n",
       "      <td>Bedford Park Boulevard</td>\n",
       "      <td>Grand Concourse</td>\n",
       "      <td>Valentine Avenue</td>\n",
       "      <td>EB</td>\n",
       "      <td>9/13/2014</td>\n",
       "      <td>113.0</td>\n",
       "      <td>169.0</td>\n",
       "      <td>210.0</td>\n",
       "      <td>182.0</td>\n",
       "      <td>245.0</td>\n",
       "      <td>244</td>\n",
       "      <td>233</td>\n",
       "      <td>280</td>\n",
       "      <td>272</td>\n",
       "      <td>264</td>\n",
       "      <td>236</td>\n",
       "    </tr>\n",
       "    <tr>\n",
       "      <td>3</td>\n",
       "      <td>56</td>\n",
       "      <td>176365</td>\n",
       "      <td>Bedford Park Boulevard</td>\n",
       "      <td>Grand Concourse</td>\n",
       "      <td>Valentine Avenue</td>\n",
       "      <td>WB</td>\n",
       "      <td>9/13/2014</td>\n",
       "      <td>142.0</td>\n",
       "      <td>198.0</td>\n",
       "      <td>212.0</td>\n",
       "      <td>205.0</td>\n",
       "      <td>237.0</td>\n",
       "      <td>257</td>\n",
       "      <td>245</td>\n",
       "      <td>237</td>\n",
       "      <td>276</td>\n",
       "      <td>223</td>\n",
       "      <td>240</td>\n",
       "    </tr>\n",
       "    <tr>\n",
       "      <td>4</td>\n",
       "      <td>62</td>\n",
       "      <td>147673</td>\n",
       "      <td>Broadway</td>\n",
       "      <td>West 242 Street</td>\n",
       "      <td>240 Street</td>\n",
       "      <td>SB</td>\n",
       "      <td>9/13/2014</td>\n",
       "      <td>354.0</td>\n",
       "      <td>473.0</td>\n",
       "      <td>567.0</td>\n",
       "      <td>634.0</td>\n",
       "      <td>781.0</td>\n",
       "      <td>785</td>\n",
       "      <td>779</td>\n",
       "      <td>732</td>\n",
       "      <td>809</td>\n",
       "      <td>707</td>\n",
       "      <td>675</td>\n",
       "    </tr>\n",
       "  </tbody>\n",
       "</table>\n",
       "</div>"
      ],
      "text/plain": [
       "   ID  Segment ID            Roadway Name             From                To  \\\n",
       "0   2       70376                3 Avenue  East 154 Street   East 155 Street   \n",
       "1   2       70376                3 Avenue  East 155 Street   East 154 Street   \n",
       "2  56      176365  Bedford Park Boulevard  Grand Concourse  Valentine Avenue   \n",
       "3  56      176365  Bedford Park Boulevard  Grand Concourse  Valentine Avenue   \n",
       "4  62      147673                Broadway  West 242 Street        240 Street   \n",
       "\n",
       "  Direction       Date  7:00-8:00AM  8:00-9:00AM  9:00-10:00AM  10:00-11:00AM  \\\n",
       "0        NB  9/13/2014        180.0        223.0         272.0          386.0   \n",
       "1        SB  9/13/2014        219.0        226.0         273.0          317.0   \n",
       "2        EB  9/13/2014        113.0        169.0         210.0          182.0   \n",
       "3        WB  9/13/2014        142.0        198.0         212.0          205.0   \n",
       "4        SB  9/13/2014        354.0        473.0         567.0          634.0   \n",
       "\n",
       "   11:00-12:00PM  12:00-1:00PM  1:00-2:00PM  2:00-3:00PM  3:00-4:00PM  \\\n",
       "0          339.0           513          506          520          611   \n",
       "1          325.0           403          414          379          376   \n",
       "2          245.0           244          233          280          272   \n",
       "3          237.0           257          245          237          276   \n",
       "4          781.0           785          779          732          809   \n",
       "\n",
       "   4:00-5:00PM  5:00-6:00PM  \n",
       "0          573          546  \n",
       "1          329          362  \n",
       "2          264          236  \n",
       "3          223          240  \n",
       "4          707          675  "
      ]
     },
     "execution_count": 4,
     "metadata": {},
     "output_type": "execute_result"
    }
   ],
   "source": [
    "#we have decided to look only at times from 7 AM - 6 PM for traffic volume\n",
    "\n",
    "traffic_volume = traffic_volume_raw.drop(['12:00-1:00 AM','1:00-2:00AM',\n",
    "                                          '2:00-3:00AM','3:00-4:00AM',\n",
    "                                         '4:00-5:00AM','5:00-6:00AM',\n",
    "                                          '6:00-7:00AM', '6:00-7:00PM',\n",
    "                                          '7:00-8:00PM','8:00-9:00PM',\n",
    "                                          '9:00-10:00PM','10:00-11:00PM',\n",
    "                                          '11:00-12:00AM'], axis=1)\n",
    "\n",
    "#traffic_volume is without the extra time as we are looking traffic volume during the workday. \n",
    "\n",
    "traffic_volume.head()"
   ]
  },
  {
   "cell_type": "code",
   "execution_count": 5,
   "metadata": {},
   "outputs": [
    {
     "data": {
      "text/html": [
       "<div>\n",
       "<style scoped>\n",
       "    .dataframe tbody tr th:only-of-type {\n",
       "        vertical-align: middle;\n",
       "    }\n",
       "\n",
       "    .dataframe tbody tr th {\n",
       "        vertical-align: top;\n",
       "    }\n",
       "\n",
       "    .dataframe thead th {\n",
       "        text-align: right;\n",
       "    }\n",
       "</style>\n",
       "<table border=\"1\" class=\"dataframe\">\n",
       "  <thead>\n",
       "    <tr style=\"text-align: right;\">\n",
       "      <th></th>\n",
       "      <th>7:00-8:00AM</th>\n",
       "      <th>8:00-9:00AM</th>\n",
       "      <th>9:00-10:00AM</th>\n",
       "      <th>10:00-11:00AM</th>\n",
       "      <th>11:00-12:00PM</th>\n",
       "      <th>12:00-1:00PM</th>\n",
       "      <th>1:00-2:00PM</th>\n",
       "      <th>2:00-3:00PM</th>\n",
       "      <th>3:00-4:00PM</th>\n",
       "      <th>4:00-5:00PM</th>\n",
       "      <th>5:00-6:00PM</th>\n",
       "    </tr>\n",
       "  </thead>\n",
       "  <tbody>\n",
       "    <tr>\n",
       "      <td>9/13/2014</td>\n",
       "      <td>414.788732</td>\n",
       "      <td>531.323944</td>\n",
       "      <td>611.112676</td>\n",
       "      <td>666.450704</td>\n",
       "      <td>760.126761</td>\n",
       "      <td>794.619718</td>\n",
       "      <td>799.661972</td>\n",
       "      <td>821.873239</td>\n",
       "      <td>814.154930</td>\n",
       "      <td>846.323944</td>\n",
       "      <td>857.647887</td>\n",
       "    </tr>\n",
       "    <tr>\n",
       "      <td>9/14/2014</td>\n",
       "      <td>283.394366</td>\n",
       "      <td>363.802817</td>\n",
       "      <td>481.042254</td>\n",
       "      <td>620.633803</td>\n",
       "      <td>710.126761</td>\n",
       "      <td>753.577465</td>\n",
       "      <td>783.169014</td>\n",
       "      <td>799.985915</td>\n",
       "      <td>828.366197</td>\n",
       "      <td>840.028169</td>\n",
       "      <td>823.042254</td>\n",
       "    </tr>\n",
       "    <tr>\n",
       "      <td>9/15/2014</td>\n",
       "      <td>988.211268</td>\n",
       "      <td>988.690141</td>\n",
       "      <td>765.845070</td>\n",
       "      <td>653.788732</td>\n",
       "      <td>637.366197</td>\n",
       "      <td>665.816901</td>\n",
       "      <td>704.464789</td>\n",
       "      <td>789.619718</td>\n",
       "      <td>912.549296</td>\n",
       "      <td>977.619718</td>\n",
       "      <td>992.154930</td>\n",
       "    </tr>\n",
       "    <tr>\n",
       "      <td>9/16/2014</td>\n",
       "      <td>958.000000</td>\n",
       "      <td>895.887324</td>\n",
       "      <td>774.943662</td>\n",
       "      <td>663.028169</td>\n",
       "      <td>636.140845</td>\n",
       "      <td>637.084507</td>\n",
       "      <td>679.422535</td>\n",
       "      <td>773.802817</td>\n",
       "      <td>890.901408</td>\n",
       "      <td>974.140845</td>\n",
       "      <td>982.464789</td>\n",
       "    </tr>\n",
       "    <tr>\n",
       "      <td>9/17/2014</td>\n",
       "      <td>971.535211</td>\n",
       "      <td>937.338028</td>\n",
       "      <td>751.746479</td>\n",
       "      <td>644.619718</td>\n",
       "      <td>651.253521</td>\n",
       "      <td>666.098592</td>\n",
       "      <td>705.577465</td>\n",
       "      <td>833.309859</td>\n",
       "      <td>934.605634</td>\n",
       "      <td>967.845070</td>\n",
       "      <td>987.676056</td>\n",
       "    </tr>\n",
       "  </tbody>\n",
       "</table>\n",
       "</div>"
      ],
      "text/plain": [
       "           7:00-8:00AM  8:00-9:00AM  9:00-10:00AM  10:00-11:00AM  \\\n",
       "9/13/2014   414.788732   531.323944    611.112676     666.450704   \n",
       "9/14/2014   283.394366   363.802817    481.042254     620.633803   \n",
       "9/15/2014   988.211268   988.690141    765.845070     653.788732   \n",
       "9/16/2014   958.000000   895.887324    774.943662     663.028169   \n",
       "9/17/2014   971.535211   937.338028    751.746479     644.619718   \n",
       "\n",
       "           11:00-12:00PM  12:00-1:00PM  1:00-2:00PM  2:00-3:00PM  3:00-4:00PM  \\\n",
       "9/13/2014     760.126761    794.619718   799.661972   821.873239   814.154930   \n",
       "9/14/2014     710.126761    753.577465   783.169014   799.985915   828.366197   \n",
       "9/15/2014     637.366197    665.816901   704.464789   789.619718   912.549296   \n",
       "9/16/2014     636.140845    637.084507   679.422535   773.802817   890.901408   \n",
       "9/17/2014     651.253521    666.098592   705.577465   833.309859   934.605634   \n",
       "\n",
       "           4:00-5:00PM  5:00-6:00PM  \n",
       "9/13/2014   846.323944   857.647887  \n",
       "9/14/2014   840.028169   823.042254  \n",
       "9/15/2014   977.619718   992.154930  \n",
       "9/16/2014   974.140845   982.464789  \n",
       "9/17/2014   967.845070   987.676056  "
      ]
     },
     "execution_count": 5,
     "metadata": {},
     "output_type": "execute_result"
    }
   ],
   "source": [
    "#removed unecessary data to cleanup final dataframe\n",
    "time_list = ['7:00-8:00AM','8:00-9:00AM','9:00-10:00AM', '10:00-11:00AM', '11:00-12:00PM',\n",
    "             '12:00-1:00PM', '1:00-2:00PM', '2:00-3:00PM', '3:00-4:00PM', '4:00-5:00PM', '5:00-6:00PM']\n",
    "\n",
    "\n",
    "day_list =  ['13','14','15','16','17','18','19','20',\n",
    "           '21','22','23','24','25','26','27','28','29','30']\n",
    "\n",
    "newday_list = []\n",
    "day_list = list(map(lambda x : \"9/{}/2014\".format(x), day_list))\n",
    "for day in day_list:\n",
    "    rows = traffic_volume.loc[traffic_volume['Date'] == day]\n",
    "    means_of_current_day = []\n",
    "    for time in time_list:\n",
    "        total = 0\n",
    "        for i in range(len(rows)):\n",
    "            j = rows.columns.get_loc(time)\n",
    "            total += rows.iat[i,j]\n",
    "        means_of_current_day.append(total/float(len(rows)))\n",
    "    newday_list.append(means_of_current_day)\n",
    "\n",
    "#making a new dataframe   \n",
    "traffic_mean = pd.DataFrame(newday_list, columns = time_list, index = day_list)\n",
    "traffic_mean.head()"
   ]
  },
  {
   "cell_type": "markdown",
   "metadata": {},
   "source": [
    "### __Dataset Description: Traffic Volume Mean__\n",
    "\n",
    "_What are the observations (rows) and the attributes (columns)?_ : \n",
    "The rows of this dataset are the dates in September that we used to conduct our project on (9/13/2014-9/30/2014). The columns are the time ranges that we chose to use (7:00AM - 6:00PM). \n",
    "\n",
    "_Why was this dataset created?_ : The raw data of traffic volume counts was collected by DOT for New York Metropolitan Transportation Council (NYMTC) to validate the New York Best Practice Model (NYBPM). We later condensed the dataset into a format that we could use to create a regression with the corresponding uber dataset and a more simplistic model of NYC traffic volume at hourly intervals.\n",
    "\n",
    "_Who funded the creation of the dataset?_ : As mentioned above, the New York Metropolitan Transportation Council (NYMTC) funded the creation of this dataset. One of the group members, Elaine Li, was in charge of gathering and sorting through the data. \n",
    "\n",
    "_What processes might have influenced what data was observed and recorded and what was not?_ : Because sensors were used, their placement may have missed or recorded traffic accidents or special events leading to closed off streets.  \n",
    "\n",
    "_What preprocessing was done, and how did the data come to be in the form that you are using?_ : The traffic volume data had excess columns we did not need/did not want to include in our final clean dataset. The raw data recorded this from the DOT for New York Metropolitan Transportation Council. They used sensors in many different locations resulting in columns such as \"Roadway Name\" and \"Segment ID\". This is because the sensors counted the traffic volume between different locations where there were sensors. This resulted in multiple entries for each hour interval in the same day. However, we decided it would be best to take the mean for each hour interval (of that same day) to get a holistic overview of traffic volume in the entire New York City. As a result, this became our final dataset.\n",
    "\n",
    "_If people are involved, were they aware of the data collection and if so, what purpose did they expect the data to be used for?_ : There were people involved but to the best of our knowledge, the majority were not aware of the data collection. However, if everyone was aware, they would expect the data to be used to improve NYC traffic congestion and identify NYC traffic patterns to possibly improve or enhance traffic congestion.\n",
    "\n",
    "_Where can your raw source data be found, if applicable?_ : https://drive.google.com/open?id=1POXieHUcNAfdfMbzQrcOVVbjwO_ZdJmo"
   ]
  },
  {
   "cell_type": "code",
   "execution_count": 6,
   "metadata": {},
   "outputs": [
    {
     "data": {
      "text/html": [
       "<div>\n",
       "<style scoped>\n",
       "    .dataframe tbody tr th:only-of-type {\n",
       "        vertical-align: middle;\n",
       "    }\n",
       "\n",
       "    .dataframe tbody tr th {\n",
       "        vertical-align: top;\n",
       "    }\n",
       "\n",
       "    .dataframe thead th {\n",
       "        text-align: right;\n",
       "    }\n",
       "</style>\n",
       "<table border=\"1\" class=\"dataframe\">\n",
       "  <thead>\n",
       "    <tr style=\"text-align: right;\">\n",
       "      <th></th>\n",
       "      <th>7:00-8:00AM</th>\n",
       "      <th>8:00-9:00AM</th>\n",
       "      <th>9:00-10:00AM</th>\n",
       "      <th>10:00-11:00AM</th>\n",
       "      <th>11:00-12:00PM</th>\n",
       "      <th>12:00-1:00PM</th>\n",
       "      <th>1:00-2:00PM</th>\n",
       "      <th>2:00-3:00PM</th>\n",
       "      <th>3:00-4:00PM</th>\n",
       "      <th>4:00-5:00PM</th>\n",
       "      <th>5:00-6:00PM</th>\n",
       "    </tr>\n",
       "  </thead>\n",
       "  <tbody>\n",
       "    <tr>\n",
       "      <td>9/13/2014</td>\n",
       "      <td>249</td>\n",
       "      <td>353</td>\n",
       "      <td>437</td>\n",
       "      <td>479</td>\n",
       "      <td>526</td>\n",
       "      <td>572</td>\n",
       "      <td>661</td>\n",
       "      <td>983</td>\n",
       "      <td>1098</td>\n",
       "      <td>1092</td>\n",
       "      <td>1105</td>\n",
       "    </tr>\n",
       "    <tr>\n",
       "      <td>9/14/2014</td>\n",
       "      <td>211</td>\n",
       "      <td>293</td>\n",
       "      <td>365</td>\n",
       "      <td>413</td>\n",
       "      <td>543</td>\n",
       "      <td>506</td>\n",
       "      <td>540</td>\n",
       "      <td>559</td>\n",
       "      <td>638</td>\n",
       "      <td>662</td>\n",
       "      <td>679</td>\n",
       "    </tr>\n",
       "    <tr>\n",
       "      <td>9/15/2014</td>\n",
       "      <td>575</td>\n",
       "      <td>591</td>\n",
       "      <td>440</td>\n",
       "      <td>367</td>\n",
       "      <td>376</td>\n",
       "      <td>384</td>\n",
       "      <td>451</td>\n",
       "      <td>534</td>\n",
       "      <td>643</td>\n",
       "      <td>802</td>\n",
       "      <td>882</td>\n",
       "    </tr>\n",
       "    <tr>\n",
       "      <td>9/16/2014</td>\n",
       "      <td>849</td>\n",
       "      <td>918</td>\n",
       "      <td>762</td>\n",
       "      <td>686</td>\n",
       "      <td>498</td>\n",
       "      <td>474</td>\n",
       "      <td>536</td>\n",
       "      <td>643</td>\n",
       "      <td>801</td>\n",
       "      <td>858</td>\n",
       "      <td>964</td>\n",
       "    </tr>\n",
       "    <tr>\n",
       "      <td>9/17/2014</td>\n",
       "      <td>719</td>\n",
       "      <td>608</td>\n",
       "      <td>471</td>\n",
       "      <td>456</td>\n",
       "      <td>446</td>\n",
       "      <td>492</td>\n",
       "      <td>571</td>\n",
       "      <td>656</td>\n",
       "      <td>747</td>\n",
       "      <td>915</td>\n",
       "      <td>1037</td>\n",
       "    </tr>\n",
       "  </tbody>\n",
       "</table>\n",
       "</div>"
      ],
      "text/plain": [
       "           7:00-8:00AM  8:00-9:00AM  9:00-10:00AM  10:00-11:00AM  \\\n",
       "9/13/2014          249          353           437            479   \n",
       "9/14/2014          211          293           365            413   \n",
       "9/15/2014          575          591           440            367   \n",
       "9/16/2014          849          918           762            686   \n",
       "9/17/2014          719          608           471            456   \n",
       "\n",
       "           11:00-12:00PM  12:00-1:00PM  1:00-2:00PM  2:00-3:00PM  3:00-4:00PM  \\\n",
       "9/13/2014            526           572          661          983         1098   \n",
       "9/14/2014            543           506          540          559          638   \n",
       "9/15/2014            376           384          451          534          643   \n",
       "9/16/2014            498           474          536          643          801   \n",
       "9/17/2014            446           492          571          656          747   \n",
       "\n",
       "           4:00-5:00PM  5:00-6:00PM  \n",
       "9/13/2014         1092         1105  \n",
       "9/14/2014          662          679  \n",
       "9/15/2014          802          882  \n",
       "9/16/2014          858          964  \n",
       "9/17/2014          915         1037  "
      ]
     },
     "execution_count": 6,
     "metadata": {},
     "output_type": "execute_result"
    }
   ],
   "source": [
    "#inserting uber data\n",
    "uber = pd.read_csv('uber-data.csv')\n",
    "\n",
    "#number of days in september being analyzed\n",
    "date_list = ['13','14','15','16','17','18','19','20',\n",
    "            '21','22','23','24','25','26','27','28','29','30']\n",
    "\n",
    "#number of hours\n",
    "hours_list = ['7','8','9','10','11','12','13','14','15','16','17']\n",
    "    \n",
    "uber_data = uber[\"Date Called\"].tolist()  \n",
    "\n",
    "#counting each day and hour\n",
    "total_list = []\n",
    "uber_date = []\n",
    "date_str = []\n",
    "for date in date_list:\n",
    "    find_date = ('9/'+date+'/2014')\n",
    "    date_str.append(find_date)\n",
    "    uber_date = [s for s in uber_data if find_date in s]\n",
    "    for hour in hours_list:\n",
    "        hour_str = \" \" + hour + \":\"\n",
    "        uber_hours = [s for s in uber_date if hour_str in s]\n",
    "        count = len(uber_hours)\n",
    "        total_list.append(count)\n",
    "\n",
    "total_list = np.reshape(total_list, (len(date_list), len(hours_list)))\n",
    "        \n",
    "uber_counts = pd.DataFrame(total_list, columns = time_list, index = date_str)\n",
    "uber_counts.head()\n",
    "            "
   ]
  },
  {
   "cell_type": "markdown",
   "metadata": {},
   "source": [
    "### __Dataset Description: Uber Counts__\n",
    "\n",
    "_What are the observations (rows) and the attributes (columns)?_ :  The rows and columns of this dataset are the same as above even though this is regarding uber counts. The rows are the dates that we chose to use in September (9/13/2014 - 9/30/2014). The columns are the hourly time intervals we chose to use from 7:00AM to 6:00PM. \n",
    "\n",
    "_Why was this dataset created?_ : This dataset was created to record details of uber pickups specifically in NYC in order to form a direct comparison with Taxis. This was to determine if Ubers are serving New York's outer boroughs more than taxis are, if uber is taking millions of manhattan rides away from taxis and if uber is making NYC rush-hour traffic worse. We created the final dataset in order to have a condensed and simple model of the number of uber pickups for a certain hour time interval in a given day bewteen 9/13/2014 - 9/30/2014.\n",
    "\n",
    "_Who funded the creation of the dataset?_ : The NYC Taxi & Limousine Commission (TLC) funded the creation of this dataset. One of the group members, Julia Lu, was in charge of gathering and organizing this dataset. \n",
    "\n",
    "_What processes might have influenced what data was observed and recorded and what was not?_ : Because the data was mainly focused on time, location, latitude, and longitude, the direction of traffic was not recorded. That is, the process to collecting this data was through the Uber app which only recorded date and estimated arival time the Uber was called as well as its GPS location. This would result in a loss of extraneous factors to be considered such as time of arrival to final destination. If the Uber was running late, this would result in an inaccurate account of the estimated arrival time recorded in the data. \n",
    "\n",
    "_What preprocessing was done, and how did the data come to be in the form that you are using?_ : As for the uber data counts, it was similar to the preparation made for the traffic volume dataset. Using a list of hours and dates, we created a for loop to find the data for each date. Then, we wrote an if statement to find the data for each specific date. Then we used another for loop to find and create a new dataset to see if the hour searched for was present in that line of data. The data processing for uber data was more straightforward as the raw data consisted of only one column.\n",
    "\n",
    "_If people are involved, were they aware of the data collection and if so, what purpose did they expect the data to be used for?_ : People were involved and they were are of this data collection. We believe they expected this data to be used to identify patterns in Uber pickups such as which borough or neighborhood in NYC garnered the most NYC rides. They would also expect the data to be used to compare Ubers and taxis popularity. \n",
    "\n",
    "_Where can your raw source data be found, if applicable?_ : https://drive.google.com/open?id=1POXieHUcNAfdfMbzQrcOVVbjwO_ZdJmo"
   ]
  },
  {
   "cell_type": "code",
   "execution_count": 7,
   "metadata": {},
   "outputs": [
    {
     "data": {
      "image/png": "[encoded data removed]",
      "text/plain": [
       "<Figure size 432x288 with 1 Axes>"
      ]
     },
     "metadata": {
      "needs_background": "light"
     },
     "output_type": "display_data"
    },
    {
     "data": {
      "image/png": "[encoded data removed]",
      "text/plain": [
       "<Figure size 432x288 with 1 Axes>"
      ]
     },
     "metadata": {
      "needs_background": "light"
     },
     "output_type": "display_data"
    },
    {
     "data": {
      "image/png": "[encoded data removed]",
      "text/plain": [
       "<Figure size 432x288 with 1 Axes>"
      ]
     },
     "metadata": {
      "needs_background": "light"
     },
     "output_type": "display_data"
    },
    {
     "data": {
      "image/png": "[encoded data removed]",
      "text/plain": [
       "<Figure size 432x288 with 1 Axes>"
      ]
     },
     "metadata": {
      "needs_background": "light"
     },
     "output_type": "display_data"
    },
    {
     "data": {
      "image/png": "[encoded data removed]",
      "text/plain": [
       "<Figure size 432x288 with 1 Axes>"
      ]
     },
     "metadata": {
      "needs_background": "light"
     },
     "output_type": "display_data"
    },
    {
     "data": {
      "image/png": "[encoded data removed]",
      "text/plain": [
       "<Figure size 432x288 with 1 Axes>"
      ]
     },
     "metadata": {
      "needs_background": "light"
     },
     "output_type": "display_data"
    },
    {
     "data": {
      "image/png": "[encoded data removed]",
      "text/plain": [
       "<Figure size 432x288 with 1 Axes>"
      ]
     },
     "metadata": {
      "needs_background": "light"
     },
     "output_type": "display_data"
    },
    {
     "data": {
      "image/png": "[encoded data removed]",
      "text/plain": [
       "<Figure size 432x288 with 1 Axes>"
      ]
     },
     "metadata": {
      "needs_background": "light"
     },
     "output_type": "display_data"
    },
    {
     "data": {
      "image/png": "[encoded data removed]",
      "text/plain": [
       "<Figure size 432x288 with 1 Axes>"
      ]
     },
     "metadata": {
      "needs_background": "light"
     },
     "output_type": "display_data"
    },
    {
     "data": {
      "image/png": "[encoded data removed]",
      "text/plain": [
       "<Figure size 432x288 with 1 Axes>"
      ]
     },
     "metadata": {
      "needs_background": "light"
     },
     "output_type": "display_data"
    },
    {
     "data": {
      "image/png": "[encoded data removed]",
      "text/plain": [
       "<Figure size 432x288 with 1 Axes>"
      ]
     },
     "metadata": {
      "needs_background": "light"
     },
     "output_type": "display_data"
    },
    {
     "data": {
      "image/png": "[encoded data removed]",
      "text/plain": [
       "<Figure size 432x288 with 1 Axes>"
      ]
     },
     "metadata": {
      "needs_background": "light"
     },
     "output_type": "display_data"
    },
    {
     "data": {
      "image/png": "[encoded data removed]",
      "text/plain": [
       "<Figure size 432x288 with 1 Axes>"
      ]
     },
     "metadata": {
      "needs_background": "light"
     },
     "output_type": "display_data"
    },
    {
     "data": {
      "image/png": "[encoded data removed]",
      "text/plain": [
       "<Figure size 432x288 with 1 Axes>"
      ]
     },
     "metadata": {
      "needs_background": "light"
     },
     "output_type": "display_data"
    },
    {
     "data": {
      "image/png": "[encoded data removed]",
      "text/plain": [
       "<Figure size 432x288 with 1 Axes>"
      ]
     },
     "metadata": {
      "needs_background": "light"
     },
     "output_type": "display_data"
    },
    {
     "data": {
      "image/png": "[encoded data removed]",
      "text/plain": [
       "<Figure size 432x288 with 1 Axes>"
      ]
     },
     "metadata": {
      "needs_background": "light"
     },
     "output_type": "display_data"
    },
    {
     "data": {
      "image/png": "[encoded data removed]",
      "text/plain": [
       "<Figure size 432x288 with 1 Axes>"
      ]
     },
     "metadata": {
      "needs_background": "light"
     },
     "output_type": "display_data"
    },
    {
     "data": {
      "image/png": "[encoded data removed]",
      "text/plain": [
       "<Figure size 432x288 with 1 Axes>"
      ]
     },
     "metadata": {
      "needs_background": "light"
     },
     "output_type": "display_data"
    }
   ],
   "source": [
    "#Separate scatterplots for each date\n",
    "\n",
    "for date in date_list:\n",
    "    find_date = ('9/'+date+'/2014')\n",
    "    plt.scatter(uber_counts.loc[find_date], traffic_mean.loc[find_date])\n",
    "    plt.xlabel('Uber Counts')\n",
    "    plt.ylabel('Traffic Volume Mean')\n",
    "    plt.title('Uber Counts v. Traffic Volume Mean for '+find_date)\n",
    "    plt.show()"
   ]
  },
  {
   "cell_type": "code",
   "execution_count": 8,
   "metadata": {},
   "outputs": [
    {
     "data": {
      "text/html": [
       "<div>\n",
       "<style scoped>\n",
       "    .dataframe tbody tr th:only-of-type {\n",
       "        vertical-align: middle;\n",
       "    }\n",
       "\n",
       "    .dataframe tbody tr th {\n",
       "        vertical-align: top;\n",
       "    }\n",
       "\n",
       "    .dataframe thead th {\n",
       "        text-align: right;\n",
       "    }\n",
       "</style>\n",
       "<table border=\"1\" class=\"dataframe\">\n",
       "  <thead>\n",
       "    <tr style=\"text-align: right;\">\n",
       "      <th></th>\n",
       "      <th>7:00-8:00AM</th>\n",
       "      <th>8:00-9:00AM</th>\n",
       "      <th>9:00-10:00AM</th>\n",
       "      <th>10:00-11:00AM</th>\n",
       "      <th>11:00-12:00PM</th>\n",
       "      <th>12:00-1:00PM</th>\n",
       "      <th>1:00-2:00PM</th>\n",
       "      <th>2:00-3:00PM</th>\n",
       "      <th>3:00-4:00PM</th>\n",
       "      <th>4:00-5:00PM</th>\n",
       "      <th>5:00-6:00PM</th>\n",
       "    </tr>\n",
       "  </thead>\n",
       "  <tbody>\n",
       "    <tr>\n",
       "      <td>Uber Counts Mean</td>\n",
       "      <td>559.111111</td>\n",
       "      <td>563.611111</td>\n",
       "      <td>505.111111</td>\n",
       "      <td>488.777778</td>\n",
       "      <td>504.0</td>\n",
       "      <td>503.333333</td>\n",
       "      <td>575.444444</td>\n",
       "      <td>673.888889</td>\n",
       "      <td>775.166667</td>\n",
       "      <td>865.222222</td>\n",
       "      <td>936.833333</td>\n",
       "    </tr>\n",
       "  </tbody>\n",
       "</table>\n",
       "</div>"
      ],
      "text/plain": [
       "                  7:00-8:00AM  8:00-9:00AM  9:00-10:00AM  10:00-11:00AM  \\\n",
       "Uber Counts Mean   559.111111   563.611111    505.111111     488.777778   \n",
       "\n",
       "                  11:00-12:00PM  12:00-1:00PM  1:00-2:00PM  2:00-3:00PM  \\\n",
       "Uber Counts Mean          504.0    503.333333   575.444444   673.888889   \n",
       "\n",
       "                  3:00-4:00PM  4:00-5:00PM  5:00-6:00PM  \n",
       "Uber Counts Mean   775.166667   865.222222   936.833333  "
      ]
     },
     "execution_count": 8,
     "metadata": {},
     "output_type": "execute_result"
    }
   ],
   "source": [
    "#make new dataframes for uber and traffic volume data for future Linear Regression \n",
    "\n",
    "newuber_df = pd.DataFrame(uber_counts.mean().to_dict(),index=[uber_counts.index.values[-1]])\n",
    "newuber_df = newuber_df.rename(index = {'9/30/2014':'Uber Counts Mean'})\n",
    "newuber_df.head()"
   ]
  },
  {
   "cell_type": "code",
   "execution_count": 9,
   "metadata": {
    "scrolled": true
   },
   "outputs": [
    {
     "data": {
      "text/html": [
       "<div>\n",
       "<style scoped>\n",
       "    .dataframe tbody tr th:only-of-type {\n",
       "        vertical-align: middle;\n",
       "    }\n",
       "\n",
       "    .dataframe tbody tr th {\n",
       "        vertical-align: top;\n",
       "    }\n",
       "\n",
       "    .dataframe thead th {\n",
       "        text-align: right;\n",
       "    }\n",
       "</style>\n",
       "<table border=\"1\" class=\"dataframe\">\n",
       "  <thead>\n",
       "    <tr style=\"text-align: right;\">\n",
       "      <th></th>\n",
       "      <th>7:00-8:00AM</th>\n",
       "      <th>8:00-9:00AM</th>\n",
       "      <th>9:00-10:00AM</th>\n",
       "      <th>10:00-11:00AM</th>\n",
       "      <th>11:00-12:00PM</th>\n",
       "      <th>12:00-1:00PM</th>\n",
       "      <th>1:00-2:00PM</th>\n",
       "      <th>2:00-3:00PM</th>\n",
       "      <th>3:00-4:00PM</th>\n",
       "      <th>4:00-5:00PM</th>\n",
       "      <th>5:00-6:00PM</th>\n",
       "    </tr>\n",
       "  </thead>\n",
       "  <tbody>\n",
       "    <tr>\n",
       "      <td>Traffic Volume Mean</td>\n",
       "      <td>586.349986</td>\n",
       "      <td>614.890602</td>\n",
       "      <td>556.154634</td>\n",
       "      <td>530.305455</td>\n",
       "      <td>551.968468</td>\n",
       "      <td>576.788778</td>\n",
       "      <td>600.1091</td>\n",
       "      <td>659.313755</td>\n",
       "      <td>718.491115</td>\n",
       "      <td>750.837422</td>\n",
       "      <td>754.831442</td>\n",
       "    </tr>\n",
       "  </tbody>\n",
       "</table>\n",
       "</div>"
      ],
      "text/plain": [
       "                     7:00-8:00AM  8:00-9:00AM  9:00-10:00AM  10:00-11:00AM  \\\n",
       "Traffic Volume Mean   586.349986   614.890602    556.154634     530.305455   \n",
       "\n",
       "                     11:00-12:00PM  12:00-1:00PM  1:00-2:00PM  2:00-3:00PM  \\\n",
       "Traffic Volume Mean     551.968468    576.788778     600.1091   659.313755   \n",
       "\n",
       "                     3:00-4:00PM  4:00-5:00PM  5:00-6:00PM  \n",
       "Traffic Volume Mean   718.491115   750.837422   754.831442  "
      ]
     },
     "execution_count": 9,
     "metadata": {},
     "output_type": "execute_result"
    }
   ],
   "source": [
    "newtraffic_df = pd.DataFrame(traffic_mean.mean().to_dict(), index = [traffic_mean.index.values[-1]])\n",
    "newtraffic_df = newtraffic_df.rename(index = {'9/30/2014':'Traffic Volume Mean'})\n",
    "newtraffic_df.head()"
   ]
  },
  {
   "cell_type": "code",
   "execution_count": 10,
   "metadata": {},
   "outputs": [
    {
     "data": {
      "text/html": [
       "<div>\n",
       "<style scoped>\n",
       "    .dataframe tbody tr th:only-of-type {\n",
       "        vertical-align: middle;\n",
       "    }\n",
       "\n",
       "    .dataframe tbody tr th {\n",
       "        vertical-align: top;\n",
       "    }\n",
       "\n",
       "    .dataframe thead th {\n",
       "        text-align: right;\n",
       "    }\n",
       "</style>\n",
       "<table border=\"1\" class=\"dataframe\">\n",
       "  <thead>\n",
       "    <tr style=\"text-align: right;\">\n",
       "      <th></th>\n",
       "      <th>Uber Counts Mean</th>\n",
       "    </tr>\n",
       "  </thead>\n",
       "  <tbody>\n",
       "    <tr>\n",
       "      <td>7:00-8:00AM</td>\n",
       "      <td>559.111111</td>\n",
       "    </tr>\n",
       "    <tr>\n",
       "      <td>8:00-9:00AM</td>\n",
       "      <td>563.611111</td>\n",
       "    </tr>\n",
       "    <tr>\n",
       "      <td>9:00-10:00AM</td>\n",
       "      <td>505.111111</td>\n",
       "    </tr>\n",
       "    <tr>\n",
       "      <td>10:00-11:00AM</td>\n",
       "      <td>488.777778</td>\n",
       "    </tr>\n",
       "    <tr>\n",
       "      <td>11:00-12:00PM</td>\n",
       "      <td>504.000000</td>\n",
       "    </tr>\n",
       "  </tbody>\n",
       "</table>\n",
       "</div>"
      ],
      "text/plain": [
       "               Uber Counts Mean\n",
       "7:00-8:00AM          559.111111\n",
       "8:00-9:00AM          563.611111\n",
       "9:00-10:00AM         505.111111\n",
       "10:00-11:00AM        488.777778\n",
       "11:00-12:00PM        504.000000"
      ]
     },
     "execution_count": 10,
     "metadata": {},
     "output_type": "execute_result"
    }
   ],
   "source": [
    "#Transposing Dataframes for Linear Regression\n",
    "newuber_df = newuber_df.T\n",
    "newuber_df.head()"
   ]
  },
  {
   "cell_type": "code",
   "execution_count": 11,
   "metadata": {},
   "outputs": [
    {
     "data": {
      "text/html": [
       "<div>\n",
       "<style scoped>\n",
       "    .dataframe tbody tr th:only-of-type {\n",
       "        vertical-align: middle;\n",
       "    }\n",
       "\n",
       "    .dataframe tbody tr th {\n",
       "        vertical-align: top;\n",
       "    }\n",
       "\n",
       "    .dataframe thead th {\n",
       "        text-align: right;\n",
       "    }\n",
       "</style>\n",
       "<table border=\"1\" class=\"dataframe\">\n",
       "  <thead>\n",
       "    <tr style=\"text-align: right;\">\n",
       "      <th></th>\n",
       "      <th>Traffic Volume Mean</th>\n",
       "    </tr>\n",
       "  </thead>\n",
       "  <tbody>\n",
       "    <tr>\n",
       "      <td>7:00-8:00AM</td>\n",
       "      <td>586.349986</td>\n",
       "    </tr>\n",
       "    <tr>\n",
       "      <td>8:00-9:00AM</td>\n",
       "      <td>614.890602</td>\n",
       "    </tr>\n",
       "    <tr>\n",
       "      <td>9:00-10:00AM</td>\n",
       "      <td>556.154634</td>\n",
       "    </tr>\n",
       "    <tr>\n",
       "      <td>10:00-11:00AM</td>\n",
       "      <td>530.305455</td>\n",
       "    </tr>\n",
       "    <tr>\n",
       "      <td>11:00-12:00PM</td>\n",
       "      <td>551.968468</td>\n",
       "    </tr>\n",
       "  </tbody>\n",
       "</table>\n",
       "</div>"
      ],
      "text/plain": [
       "               Traffic Volume Mean\n",
       "7:00-8:00AM             586.349986\n",
       "8:00-9:00AM             614.890602\n",
       "9:00-10:00AM            556.154634\n",
       "10:00-11:00AM           530.305455\n",
       "11:00-12:00PM           551.968468"
      ]
     },
     "execution_count": 11,
     "metadata": {},
     "output_type": "execute_result"
    }
   ],
   "source": [
    "newtraffic_df = newtraffic_df.T\n",
    "newtraffic_df.head()"
   ]
  },
  {
   "cell_type": "code",
   "execution_count": 12,
   "metadata": {},
   "outputs": [
    {
     "data": {
      "image/png": "[encoded data removed]",
      "text/plain": [
       "<Figure size 432x288 with 1 Axes>"
      ]
     },
     "metadata": {
      "needs_background": "light"
     },
     "output_type": "display_data"
    }
   ],
   "source": [
    "#Data Visualization for Uber Counts\n",
    "newuber_df.plot.bar()\n",
    "plt.xlabel('Time Ranges')\n",
    "plt.ylabel('Uber Counts Mean')\n",
    "plt.title ('Uber Counts Mean between 7 AM - 6 PM')\n",
    "plt.show()"
   ]
  },
  {
   "cell_type": "code",
   "execution_count": 13,
   "metadata": {},
   "outputs": [
    {
     "data": {
      "image/png": "[encoded data removed]",
      "text/plain": [
       "<Figure size 432x288 with 1 Axes>"
      ]
     },
     "metadata": {
      "needs_background": "light"
     },
     "output_type": "display_data"
    }
   ],
   "source": [
    "#Data Visualization for Traffic Volume\n",
    "newtraffic_df.plot.bar()\n",
    "plt.xlabel('Time Ranges')\n",
    "plt.ylabel('Traffic Volume Mean')\n",
    "plt.title ('Traffic Volume Mean between 7 AM - 6 PM')\n",
    "plt.show()"
   ]
  },
  {
   "cell_type": "code",
   "execution_count": 14,
   "metadata": {},
   "outputs": [
    {
     "data": {
      "image/png": "[encoded data removed]",
      "text/plain": [
       "<Figure size 432x288 with 1 Axes>"
      ]
     },
     "metadata": {
      "needs_background": "light"
     },
     "output_type": "display_data"
    }
   ],
   "source": [
    "#Scatterplots\n",
    "\n",
    "plt.scatter(newuber_df, newtraffic_df)\n",
    "plt.xlabel('Uber Ride Counts Mean')\n",
    "plt.ylabel('Traffic Volume in NYC Mean')\n",
    "plt.title('Uber Counts vs Traffic Volume (9/13/2014 - 9/30/2014)')\n",
    "plt.show()"
   ]
  },
  {
   "cell_type": "code",
   "execution_count": 15,
   "metadata": {},
   "outputs": [
    {
     "data": {
      "image/png": "[encoded data removed]",
      "text/plain": [
       "<Figure size 432x288 with 1 Axes>"
      ]
     },
     "metadata": {
      "needs_background": "light"
     },
     "output_type": "display_data"
    }
   ],
   "source": [
    "#writing a permuated y\n",
    "def permuted_y():\n",
    "    return np.random.permutation(newtraffic_df.copy())\n",
    "\n",
    "perm_y_slopes = np.zeros(1000)\n",
    "slopes = np.zeros(1000)\n",
    "\n",
    "for i in range(1000):\n",
    "    perm_y_slopes[i] = LinearRegression().fit(newuber_df, permuted_y()).coef_\n",
    "    \n",
    "plt.hist(perm_y_slopes, bins = 30)\n",
    "plt.show()"
   ]
  },
  {
   "cell_type": "code",
   "execution_count": 16,
   "metadata": {},
   "outputs": [
    {
     "name": "stdout",
     "output_type": "stream",
     "text": [
      "The regression slope of model 1 is: [0.50143538]\n",
      "The regression intercept of model 1 is: 310.43764774553574\n",
      "The r-squared of model 1 is: 0.9592810330761794\n"
     ]
    }
   ],
   "source": [
    "#Linear Regression\n",
    "model1 = LinearRegression().fit( newuber_df[['Uber Counts Mean']], newtraffic_df[['Traffic Volume Mean']] )\n",
    "print ('The regression slope of model 1 is:',model1.coef_[0])\n",
    "print ('The regression intercept of model 1 is:',model1.intercept_[0])\n",
    "print ('The r-squared of model 1 is:',model1.score(newuber_df[['Uber Counts Mean']], newtraffic_df[['Traffic Volume Mean']] ))"
   ]
  },
  {
   "cell_type": "markdown",
   "metadata": {},
   "source": [
    "### __Data Analysis for Uber Counts v. Traffic Volume Mean__\n",
    "\n",
    "_Separate Scatterplots for Each Date_ : As a way to visualize the data, we decided to create scatter plots of uber counts mean vs traffic volume mean for each date. We wanted to see if there was any specific date that sticks out. We created the plots with a for loop to find the date. Then, we created a scatter plot with the respective labels. We opted for large individual plots instead of subplots in order to have a larger, clearer view for data visualization of each date. For the most part, we saw that each date's scatter plot had a positive, linear relationship. The one scatterplot that stood out the most is: 9/25/2014. The points resmeble a fork: one line was going upwards, but there was also a line of points that were almost horizontal. Possible reasons for this include an accident prone day,  a large event, or weather coniditions hindering the roads.\n",
    "\n",
    "_New Uber Counts Dataframe and New Traffic Volume Mean Dataframe_ : For these new data frames, we collapsed the values for each column (hour intervals) by taking the mean over the course of the course of 18 days (9/13 - 9/30). We wrote the code to find the means of each column and saved it into a new dataframe and renamed the index value for each dataframe.\n",
    "\n",
    "_Bar Graphs for Each New DataFrame_ : After creating the new dataframes by finding the means of each column, we decided to visualize the means by creating bargraphs for each dataframe. We created the bar graphs to provide a preempetive look into the relationship between these two datasets. The uber counts mean bar graph displays that the ubers are realtively low and in the same range  (~500-600). Around 2 - 3 PM, the number of uber rides began increasing from around 600 rides to around 800 rides by 3-4 PM. In the traffic volume mean bar chart, as expected, the high traffic volume was located around morning rush hour (7-9 AM) and saw a slight decrease hitting a minimum around 525. Then NYC began picking up in traffic volume around 1-2 PM. Therefore, from first glance we were beginning to see that our hypothesis is wrong and they datasets are related.\n",
    "\n",
    "_Scatterplot for Uber Counts v. Traffic Volume Mean_ : For the scatterplot, we wanted to visualize the relationship between uber counts and traffic volume mean directly. This would be another way for us to see if our hypothesis holds true or not. We can see that there is a relatively linear positive relationship between the two data sets. Becase the points appear to follow a trend, we can safely assume that there is a linear relationship, though the strength of this linear relationship can be found in the linear regression. \n",
    "\n",
    "_Linear Regression_ : We took the linear regression for uber counts and traffic volume mean because we wanted to determine quantitatively whether or not the two datasets were positively correlated and if so, based on the r-squared value, how accurate the model captures the variability of the response data around its mean. We found the regression slope to be 0.50143538 and the regression intercept to be 310.43764774553574 which show that this data is positively correlated. The r-squared value is 0.9592810330761794 proving that this regression model explains nearly all of the variable in the response data around the mean. In conclusion, this linear regression further proved the accuracy of the claims made based off of our data visualization, the scatterplot and the bar charts. We also did an __evaluation of significance (random y permutation)__. When we randomized our y-axis it is around zero. The regression slope calculated is closer to 0.5 which is not on the histogram. Therefore, there is a strong implication that the data have strong, linear correlation between the Traffic Volume in NYC and Uber Counts in NYC.\n",
    "\n",
    "_Data analysis and evaluation of significance_ : Here you will clearly detail your methods used in each part. Qualitative claims made in the exposition should have numerical backing here (instead of “X is larger than Y” write “X is 3.65 times larger than Y”). This should read like a scientific paper, but does not need to be \"stuffy\" or overly indirect: \"we did ...\" is more natural than \"... was done\". A reader should be able to replicate your experiments and findings via their own code after reading this.\n"
   ]
  },
  {
   "cell_type": "markdown",
   "metadata": {},
   "source": [
    "## Weekday v. Weekends"
   ]
  },
  {
   "cell_type": "markdown",
   "metadata": {},
   "source": [
    "__Dataset Description: Uber Counts Mean and Traffic Volume Mean Weekday verus Weekend__\n",
    "\n",
    "_What are the observations (rows) and the attributes (columns)?_ : The rows have become the days of the week. Therefore, the data are the mean of each day of the week of each hour. The columns are similar the datasets earlier for both uber counts mean and traffic volume, and they are the hourly time intervals we chose to use from 7:00AM to 6:00PM. \n",
    "\n",
    "_Why was this dataset created?_ : This dataset was created to see if there was trend in the uber counts mean and traffic volume mean during the weekday and weekends. We wanted to see if during the weekdays, when most people do not have work, would the traffic volume and uber pickups decrease.\n",
    "\n",
    "_Who funded the creation of the dataset?_ : The NYC Taxi & Limousine Commission (TLC) and New York Metropolitian Council, as mentioned aboved, funded the creation of these datasets.\n",
    "\n",
    "_What processes might have influenced what data was observed and recorded and what was not?_ : These reasons are the same for the Uber counts mean datasets and traffic volume mean datasets earlier, because we used those datasets to create the weekday and weekend datasets.\n",
    "\n",
    "_What preprocessing was done, and how did the data come to be in the form that you are using?_ : Similar to the process above, we created a list for each day of the week. Then we wrote create an empty array of zeros to create the dataframe. Then we wrote a for loop calculating the day of the week for each date, classifying the data into the correct section, and then taking the mean for each day of week and the hour intervals. We used this code for both traffic volume mean and uber counts mean. Then later on we split the dataframes into weekdays and weekends for uber counts mean and traffic volume mean.\n",
    "\n",
    "_If people are involved, were they aware of the data collection and if so, what purpose did they expect the data to be used for?_ : The information is the same is earlier stated.\n",
    "\n",
    "_Where can your raw source data be found, if applicable?_ : Links are the same as above."
   ]
  },
  {
   "cell_type": "code",
   "execution_count": 17,
   "metadata": {},
   "outputs": [
    {
     "name": "stdout",
     "output_type": "stream",
     "text": [
      "Traffic Volume Means for Days of the Week\n"
     ]
    },
    {
     "data": {
      "text/html": [
       "<div>\n",
       "<style scoped>\n",
       "    .dataframe tbody tr th:only-of-type {\n",
       "        vertical-align: middle;\n",
       "    }\n",
       "\n",
       "    .dataframe tbody tr th {\n",
       "        vertical-align: top;\n",
       "    }\n",
       "\n",
       "    .dataframe thead th {\n",
       "        text-align: right;\n",
       "    }\n",
       "</style>\n",
       "<table border=\"1\" class=\"dataframe\">\n",
       "  <thead>\n",
       "    <tr style=\"text-align: right;\">\n",
       "      <th></th>\n",
       "      <th>7:00-8:00AM</th>\n",
       "      <th>8:00-9:00AM</th>\n",
       "      <th>9:00-10:00AM</th>\n",
       "      <th>10:00-11:00AM</th>\n",
       "      <th>11:00-12:00PM</th>\n",
       "      <th>12:00-1:00PM</th>\n",
       "      <th>1:00-2:00PM</th>\n",
       "      <th>2:00-3:00PM</th>\n",
       "      <th>3:00-4:00PM</th>\n",
       "      <th>4:00-5:00PM</th>\n",
       "      <th>5:00-6:00PM</th>\n",
       "    </tr>\n",
       "  </thead>\n",
       "  <tbody>\n",
       "    <tr>\n",
       "      <td>Monday</td>\n",
       "      <td>338.885435</td>\n",
       "      <td>441.234520</td>\n",
       "      <td>514.164560</td>\n",
       "      <td>556.890051</td>\n",
       "      <td>619.854124</td>\n",
       "      <td>648.026257</td>\n",
       "      <td>659.033453</td>\n",
       "      <td>685.525729</td>\n",
       "      <td>700.393582</td>\n",
       "      <td>707.191435</td>\n",
       "      <td>700.262370</td>\n",
       "    </tr>\n",
       "    <tr>\n",
       "      <td>Tuesday</td>\n",
       "      <td>231.979504</td>\n",
       "      <td>298.937462</td>\n",
       "      <td>392.402233</td>\n",
       "      <td>499.815759</td>\n",
       "      <td>571.181532</td>\n",
       "      <td>614.820089</td>\n",
       "      <td>630.235437</td>\n",
       "      <td>653.224793</td>\n",
       "      <td>672.026826</td>\n",
       "      <td>691.146545</td>\n",
       "      <td>676.166988</td>\n",
       "    </tr>\n",
       "    <tr>\n",
       "      <td>Wednesday</td>\n",
       "      <td>755.132745</td>\n",
       "      <td>769.442389</td>\n",
       "      <td>617.319920</td>\n",
       "      <td>534.335662</td>\n",
       "      <td>521.806328</td>\n",
       "      <td>542.224339</td>\n",
       "      <td>570.502122</td>\n",
       "      <td>641.446381</td>\n",
       "      <td>726.588374</td>\n",
       "      <td>771.610148</td>\n",
       "      <td>779.507000</td>\n",
       "    </tr>\n",
       "    <tr>\n",
       "      <td>Thursday</td>\n",
       "      <td>756.832441</td>\n",
       "      <td>743.734261</td>\n",
       "      <td>626.015324</td>\n",
       "      <td>538.773625</td>\n",
       "      <td>528.894363</td>\n",
       "      <td>534.586922</td>\n",
       "      <td>560.073950</td>\n",
       "      <td>633.072134</td>\n",
       "      <td>714.043707</td>\n",
       "      <td>763.237066</td>\n",
       "      <td>768.660005</td>\n",
       "    </tr>\n",
       "    <tr>\n",
       "      <td>Friday</td>\n",
       "      <td>755.302489</td>\n",
       "      <td>744.372502</td>\n",
       "      <td>603.198821</td>\n",
       "      <td>522.780789</td>\n",
       "      <td>535.493040</td>\n",
       "      <td>555.950459</td>\n",
       "      <td>579.631756</td>\n",
       "      <td>663.021209</td>\n",
       "      <td>754.297003</td>\n",
       "      <td>793.666721</td>\n",
       "      <td>806.024075</td>\n",
       "    </tr>\n",
       "  </tbody>\n",
       "</table>\n",
       "</div>"
      ],
      "text/plain": [
       "           7:00-8:00AM  8:00-9:00AM  9:00-10:00AM  10:00-11:00AM  \\\n",
       "Monday      338.885435   441.234520    514.164560     556.890051   \n",
       "Tuesday     231.979504   298.937462    392.402233     499.815759   \n",
       "Wednesday   755.132745   769.442389    617.319920     534.335662   \n",
       "Thursday    756.832441   743.734261    626.015324     538.773625   \n",
       "Friday      755.302489   744.372502    603.198821     522.780789   \n",
       "\n",
       "           11:00-12:00PM  12:00-1:00PM  1:00-2:00PM  2:00-3:00PM  3:00-4:00PM  \\\n",
       "Monday        619.854124    648.026257   659.033453   685.525729   700.393582   \n",
       "Tuesday       571.181532    614.820089   630.235437   653.224793   672.026826   \n",
       "Wednesday     521.806328    542.224339   570.502122   641.446381   726.588374   \n",
       "Thursday      528.894363    534.586922   560.073950   633.072134   714.043707   \n",
       "Friday        535.493040    555.950459   579.631756   663.021209   754.297003   \n",
       "\n",
       "           4:00-5:00PM  5:00-6:00PM  \n",
       "Monday      707.191435   700.262370  \n",
       "Tuesday     691.146545   676.166988  \n",
       "Wednesday   771.610148   779.507000  \n",
       "Thursday    763.237066   768.660005  \n",
       "Friday      793.666721   806.024075  "
      ]
     },
     "execution_count": 17,
     "metadata": {},
     "output_type": "execute_result"
    }
   ],
   "source": [
    "#separating traffic data into weekdays and weekends\n",
    "days  = ['Monday', 'Tuesday', 'Wednesday', 'Thursday', 'Friday', 'Saturday', 'Sunday']\n",
    "day_of_week_mean = np.zeros((7,11))\n",
    "for i in range(len(days)):\n",
    "    day = 13 + i\n",
    "    dates = day + 7*(np.arange(np.floor((30-day)/7)+1))\n",
    "    day_list = [str(int(a)) for a in dates]\n",
    "    day_list = list(map(lambda x : \"9/{}/2014\".format(x), day_list))\n",
    "    day_traf = np.zeros(11)\n",
    "    for d in day_list:\n",
    "        day_traf += traffic_mean.loc[d]\n",
    "    \n",
    "    day_of_week_mean[i, :] = day_traf/len(day_list)\n",
    "\n",
    "#Traffic volume mean dataframe\n",
    "traffic_day_of_week = pd.DataFrame(day_of_week_mean, columns = time_list, index = days)\n",
    "print (\"Traffic Volume Means for Days of the Week\")\n",
    "traffic_day_of_week.head()"
   ]
  },
  {
   "cell_type": "code",
   "execution_count": 18,
   "metadata": {},
   "outputs": [
    {
     "name": "stdout",
     "output_type": "stream",
     "text": [
      "Uber Count Means for Days of the Week\n"
     ]
    },
    {
     "data": {
      "text/html": [
       "<div>\n",
       "<style scoped>\n",
       "    .dataframe tbody tr th:only-of-type {\n",
       "        vertical-align: middle;\n",
       "    }\n",
       "\n",
       "    .dataframe tbody tr th {\n",
       "        vertical-align: top;\n",
       "    }\n",
       "\n",
       "    .dataframe thead th {\n",
       "        text-align: right;\n",
       "    }\n",
       "</style>\n",
       "<table border=\"1\" class=\"dataframe\">\n",
       "  <thead>\n",
       "    <tr style=\"text-align: right;\">\n",
       "      <th></th>\n",
       "      <th>7:00-8:00AM</th>\n",
       "      <th>8:00-9:00AM</th>\n",
       "      <th>9:00-10:00AM</th>\n",
       "      <th>10:00-11:00AM</th>\n",
       "      <th>11:00-12:00PM</th>\n",
       "      <th>12:00-1:00PM</th>\n",
       "      <th>1:00-2:00PM</th>\n",
       "      <th>2:00-3:00PM</th>\n",
       "      <th>3:00-4:00PM</th>\n",
       "      <th>4:00-5:00PM</th>\n",
       "      <th>5:00-6:00PM</th>\n",
       "    </tr>\n",
       "  </thead>\n",
       "  <tbody>\n",
       "    <tr>\n",
       "      <td>Monday</td>\n",
       "      <td>279.0</td>\n",
       "      <td>361.0</td>\n",
       "      <td>456.0</td>\n",
       "      <td>511.0</td>\n",
       "      <td>557.0</td>\n",
       "      <td>591.0</td>\n",
       "      <td>690.0</td>\n",
       "      <td>861.0</td>\n",
       "      <td>957.0</td>\n",
       "      <td>1026.0</td>\n",
       "      <td>1083.0</td>\n",
       "    </tr>\n",
       "    <tr>\n",
       "      <td>Tuesday</td>\n",
       "      <td>231.0</td>\n",
       "      <td>304.0</td>\n",
       "      <td>370.0</td>\n",
       "      <td>434.0</td>\n",
       "      <td>533.0</td>\n",
       "      <td>556.0</td>\n",
       "      <td>594.0</td>\n",
       "      <td>610.0</td>\n",
       "      <td>656.0</td>\n",
       "      <td>687.0</td>\n",
       "      <td>679.0</td>\n",
       "    </tr>\n",
       "    <tr>\n",
       "      <td>Wednesday</td>\n",
       "      <td>630.0</td>\n",
       "      <td>629.0</td>\n",
       "      <td>503.0</td>\n",
       "      <td>416.0</td>\n",
       "      <td>427.0</td>\n",
       "      <td>419.0</td>\n",
       "      <td>474.0</td>\n",
       "      <td>569.0</td>\n",
       "      <td>660.0</td>\n",
       "      <td>756.0</td>\n",
       "      <td>804.0</td>\n",
       "    </tr>\n",
       "    <tr>\n",
       "      <td>Thursday</td>\n",
       "      <td>770.0</td>\n",
       "      <td>753.0</td>\n",
       "      <td>589.0</td>\n",
       "      <td>533.0</td>\n",
       "      <td>473.0</td>\n",
       "      <td>437.0</td>\n",
       "      <td>527.0</td>\n",
       "      <td>632.0</td>\n",
       "      <td>793.0</td>\n",
       "      <td>845.0</td>\n",
       "      <td>953.0</td>\n",
       "    </tr>\n",
       "    <tr>\n",
       "      <td>Friday</td>\n",
       "      <td>696.0</td>\n",
       "      <td>611.0</td>\n",
       "      <td>482.0</td>\n",
       "      <td>466.0</td>\n",
       "      <td>465.0</td>\n",
       "      <td>466.0</td>\n",
       "      <td>549.0</td>\n",
       "      <td>644.0</td>\n",
       "      <td>742.0</td>\n",
       "      <td>884.0</td>\n",
       "      <td>986.0</td>\n",
       "    </tr>\n",
       "  </tbody>\n",
       "</table>\n",
       "</div>"
      ],
      "text/plain": [
       "           7:00-8:00AM  8:00-9:00AM  9:00-10:00AM  10:00-11:00AM  \\\n",
       "Monday           279.0        361.0         456.0          511.0   \n",
       "Tuesday          231.0        304.0         370.0          434.0   \n",
       "Wednesday        630.0        629.0         503.0          416.0   \n",
       "Thursday         770.0        753.0         589.0          533.0   \n",
       "Friday           696.0        611.0         482.0          466.0   \n",
       "\n",
       "           11:00-12:00PM  12:00-1:00PM  1:00-2:00PM  2:00-3:00PM  3:00-4:00PM  \\\n",
       "Monday             557.0         591.0        690.0        861.0        957.0   \n",
       "Tuesday            533.0         556.0        594.0        610.0        656.0   \n",
       "Wednesday          427.0         419.0        474.0        569.0        660.0   \n",
       "Thursday           473.0         437.0        527.0        632.0        793.0   \n",
       "Friday             465.0         466.0        549.0        644.0        742.0   \n",
       "\n",
       "           4:00-5:00PM  5:00-6:00PM  \n",
       "Monday          1026.0       1083.0  \n",
       "Tuesday          687.0        679.0  \n",
       "Wednesday        756.0        804.0  \n",
       "Thursday         845.0        953.0  \n",
       "Friday           884.0        986.0  "
      ]
     },
     "execution_count": 18,
     "metadata": {},
     "output_type": "execute_result"
    }
   ],
   "source": [
    "#separating data into weekdays and weekends\n",
    "days  = ['Monday', 'Tuesday', 'Wednesday', 'Thursday', 'Friday', 'Saturday', 'Sunday']\n",
    "uber_day_of_week_mean = np.zeros((7,11))\n",
    "for i in range(len(days)):\n",
    "    day = 13 + i\n",
    "    dates = day + 7*(np.arange(np.floor((30-day)/7)+1))\n",
    "    day_list = [str(int(a)) for a in dates]\n",
    "    day_list = list(map(lambda x : \"9/{}/2014\".format(x), day_list))\n",
    "    u_day = np.zeros(11)\n",
    "    for d in day_list:\n",
    "        u_day += uber_counts.loc[d]\n",
    "    \n",
    "    uber_day_of_week_mean[i, :] = np.round(u_day/len(day_list))\n",
    "\n",
    "#uber days of the week dataframe\n",
    "uber_day_of_week = pd.DataFrame(uber_day_of_week_mean, columns = time_list, index = days)\n",
    "print (\"Uber Count Means for Days of the Week\")\n",
    "uber_day_of_week.head()"
   ]
  },
  {
   "cell_type": "code",
   "execution_count": 19,
   "metadata": {},
   "outputs": [
    {
     "data": {
      "text/html": [
       "<div>\n",
       "<style scoped>\n",
       "    .dataframe tbody tr th:only-of-type {\n",
       "        vertical-align: middle;\n",
       "    }\n",
       "\n",
       "    .dataframe tbody tr th {\n",
       "        vertical-align: top;\n",
       "    }\n",
       "\n",
       "    .dataframe thead th {\n",
       "        text-align: right;\n",
       "    }\n",
       "</style>\n",
       "<table border=\"1\" class=\"dataframe\">\n",
       "  <thead>\n",
       "    <tr style=\"text-align: right;\">\n",
       "      <th></th>\n",
       "      <th>7:00-8:00AM</th>\n",
       "      <th>8:00-9:00AM</th>\n",
       "      <th>9:00-10:00AM</th>\n",
       "      <th>10:00-11:00AM</th>\n",
       "      <th>11:00-12:00PM</th>\n",
       "      <th>12:00-1:00PM</th>\n",
       "      <th>1:00-2:00PM</th>\n",
       "      <th>2:00-3:00PM</th>\n",
       "      <th>3:00-4:00PM</th>\n",
       "      <th>4:00-5:00PM</th>\n",
       "      <th>5:00-6:00PM</th>\n",
       "    </tr>\n",
       "  </thead>\n",
       "  <tbody>\n",
       "    <tr>\n",
       "      <td>Traffic Weekday Mean</td>\n",
       "      <td>567.626523</td>\n",
       "      <td>599.544227</td>\n",
       "      <td>550.620171</td>\n",
       "      <td>530.519177</td>\n",
       "      <td>555.445877</td>\n",
       "      <td>579.121613</td>\n",
       "      <td>599.895343</td>\n",
       "      <td>655.258049</td>\n",
       "      <td>713.469899</td>\n",
       "      <td>745.370383</td>\n",
       "      <td>746.124087</td>\n",
       "    </tr>\n",
       "  </tbody>\n",
       "</table>\n",
       "</div>"
      ],
      "text/plain": [
       "                      7:00-8:00AM  8:00-9:00AM  9:00-10:00AM  10:00-11:00AM  \\\n",
       "Traffic Weekday Mean   567.626523   599.544227    550.620171     530.519177   \n",
       "\n",
       "                      11:00-12:00PM  12:00-1:00PM  1:00-2:00PM  2:00-3:00PM  \\\n",
       "Traffic Weekday Mean     555.445877    579.121613   599.895343   655.258049   \n",
       "\n",
       "                      3:00-4:00PM  4:00-5:00PM  5:00-6:00PM  \n",
       "Traffic Weekday Mean   713.469899   745.370383   746.124087  "
      ]
     },
     "execution_count": 19,
     "metadata": {},
     "output_type": "execute_result"
    }
   ],
   "source": [
    "#wdy is \"weekday\", wkd is \"weekend\", u is uber, and t is traffic\n",
    "\n",
    "t_wdy_mean = pd.DataFrame(traffic_day_of_week.iloc[:5, :].mean().to_dict(),index=[traffic_day_of_week.index.values[-1]])\n",
    "t_wdy_mean = t_wdy_mean.rename(index = {'Sunday':'Traffic Weekday Mean'})\n",
    "t_wdy_mean.head()"
   ]
  },
  {
   "cell_type": "code",
   "execution_count": 20,
   "metadata": {},
   "outputs": [
    {
     "data": {
      "text/html": [
       "<div>\n",
       "<style scoped>\n",
       "    .dataframe tbody tr th:only-of-type {\n",
       "        vertical-align: middle;\n",
       "    }\n",
       "\n",
       "    .dataframe tbody tr th {\n",
       "        vertical-align: top;\n",
       "    }\n",
       "\n",
       "    .dataframe thead th {\n",
       "        text-align: right;\n",
       "    }\n",
       "</style>\n",
       "<table border=\"1\" class=\"dataframe\">\n",
       "  <thead>\n",
       "    <tr style=\"text-align: right;\">\n",
       "      <th></th>\n",
       "      <th>7:00-8:00AM</th>\n",
       "      <th>8:00-9:00AM</th>\n",
       "      <th>9:00-10:00AM</th>\n",
       "      <th>10:00-11:00AM</th>\n",
       "      <th>11:00-12:00PM</th>\n",
       "      <th>12:00-1:00PM</th>\n",
       "      <th>1:00-2:00PM</th>\n",
       "      <th>2:00-3:00PM</th>\n",
       "      <th>3:00-4:00PM</th>\n",
       "      <th>4:00-5:00PM</th>\n",
       "      <th>5:00-6:00PM</th>\n",
       "    </tr>\n",
       "  </thead>\n",
       "  <tbody>\n",
       "    <tr>\n",
       "      <td>Traffic Weekend Mean</td>\n",
       "      <td>698.801097</td>\n",
       "      <td>704.809982</td>\n",
       "      <td>588.669915</td>\n",
       "      <td>527.62283</td>\n",
       "      <td>534.809327</td>\n",
       "      <td>562.831068</td>\n",
       "      <td>595.791353</td>\n",
       "      <td>675.449517</td>\n",
       "      <td>746.27215</td>\n",
       "      <td>782.046143</td>\n",
       "      <td>800.282181</td>\n",
       "    </tr>\n",
       "  </tbody>\n",
       "</table>\n",
       "</div>"
      ],
      "text/plain": [
       "                      7:00-8:00AM  8:00-9:00AM  9:00-10:00AM  10:00-11:00AM  \\\n",
       "Traffic Weekend Mean   698.801097   704.809982    588.669915      527.62283   \n",
       "\n",
       "                      11:00-12:00PM  12:00-1:00PM  1:00-2:00PM  2:00-3:00PM  \\\n",
       "Traffic Weekend Mean     534.809327    562.831068   595.791353   675.449517   \n",
       "\n",
       "                      3:00-4:00PM  4:00-5:00PM  5:00-6:00PM  \n",
       "Traffic Weekend Mean    746.27215   782.046143   800.282181  "
      ]
     },
     "execution_count": 20,
     "metadata": {},
     "output_type": "execute_result"
    }
   ],
   "source": [
    "t_wkd_mean = pd.DataFrame(traffic_day_of_week.iloc[5:7, :].mean().to_dict(),index=[traffic_day_of_week.index.values[-1]])\n",
    "t_wkd_mean = t_wkd_mean.rename(index = {'Sunday':'Traffic Weekend Mean'})\n",
    "t_wkd_mean.head()"
   ]
  },
  {
   "cell_type": "code",
   "execution_count": 21,
   "metadata": {},
   "outputs": [
    {
     "data": {
      "text/html": [
       "<div>\n",
       "<style scoped>\n",
       "    .dataframe tbody tr th:only-of-type {\n",
       "        vertical-align: middle;\n",
       "    }\n",
       "\n",
       "    .dataframe tbody tr th {\n",
       "        vertical-align: top;\n",
       "    }\n",
       "\n",
       "    .dataframe thead th {\n",
       "        text-align: right;\n",
       "    }\n",
       "</style>\n",
       "<table border=\"1\" class=\"dataframe\">\n",
       "  <thead>\n",
       "    <tr style=\"text-align: right;\">\n",
       "      <th></th>\n",
       "      <th>7:00-8:00AM</th>\n",
       "      <th>8:00-9:00AM</th>\n",
       "      <th>9:00-10:00AM</th>\n",
       "      <th>10:00-11:00AM</th>\n",
       "      <th>11:00-12:00PM</th>\n",
       "      <th>12:00-1:00PM</th>\n",
       "      <th>1:00-2:00PM</th>\n",
       "      <th>2:00-3:00PM</th>\n",
       "      <th>3:00-4:00PM</th>\n",
       "      <th>4:00-5:00PM</th>\n",
       "      <th>5:00-6:00PM</th>\n",
       "    </tr>\n",
       "  </thead>\n",
       "  <tbody>\n",
       "    <tr>\n",
       "      <td>Uber Weekday Mean</td>\n",
       "      <td>521.2</td>\n",
       "      <td>531.6</td>\n",
       "      <td>480.0</td>\n",
       "      <td>472.0</td>\n",
       "      <td>491.0</td>\n",
       "      <td>493.8</td>\n",
       "      <td>566.8</td>\n",
       "      <td>663.2</td>\n",
       "      <td>761.6</td>\n",
       "      <td>839.6</td>\n",
       "      <td>901.0</td>\n",
       "    </tr>\n",
       "  </tbody>\n",
       "</table>\n",
       "</div>"
      ],
      "text/plain": [
       "                   7:00-8:00AM  8:00-9:00AM  9:00-10:00AM  10:00-11:00AM  \\\n",
       "Uber Weekday Mean        521.2        531.6         480.0          472.0   \n",
       "\n",
       "                   11:00-12:00PM  12:00-1:00PM  1:00-2:00PM  2:00-3:00PM  \\\n",
       "Uber Weekday Mean          491.0         493.8        566.8        663.2   \n",
       "\n",
       "                   3:00-4:00PM  4:00-5:00PM  5:00-6:00PM  \n",
       "Uber Weekday Mean        761.6        839.6        901.0  "
      ]
     },
     "execution_count": 21,
     "metadata": {},
     "output_type": "execute_result"
    }
   ],
   "source": [
    "u_wdy_mean = pd.DataFrame(uber_day_of_week.iloc[:5, :].mean().to_dict(),index=[traffic_day_of_week.index.values[-1]])\n",
    "u_wdy_mean = u_wdy_mean.rename(index = {'Sunday':'Uber Weekday Mean'})\n",
    "u_wdy_mean.head()"
   ]
  },
  {
   "cell_type": "code",
   "execution_count": 22,
   "metadata": {},
   "outputs": [
    {
     "data": {
      "text/html": [
       "<div>\n",
       "<style scoped>\n",
       "    .dataframe tbody tr th:only-of-type {\n",
       "        vertical-align: middle;\n",
       "    }\n",
       "\n",
       "    .dataframe tbody tr th {\n",
       "        vertical-align: top;\n",
       "    }\n",
       "\n",
       "    .dataframe thead th {\n",
       "        text-align: right;\n",
       "    }\n",
       "</style>\n",
       "<table border=\"1\" class=\"dataframe\">\n",
       "  <thead>\n",
       "    <tr style=\"text-align: right;\">\n",
       "      <th></th>\n",
       "      <th>7:00-8:00AM</th>\n",
       "      <th>8:00-9:00AM</th>\n",
       "      <th>9:00-10:00AM</th>\n",
       "      <th>10:00-11:00AM</th>\n",
       "      <th>11:00-12:00PM</th>\n",
       "      <th>12:00-1:00PM</th>\n",
       "      <th>1:00-2:00PM</th>\n",
       "      <th>2:00-3:00PM</th>\n",
       "      <th>3:00-4:00PM</th>\n",
       "      <th>4:00-5:00PM</th>\n",
       "      <th>5:00-6:00PM</th>\n",
       "    </tr>\n",
       "  </thead>\n",
       "  <tbody>\n",
       "    <tr>\n",
       "      <td>Uber Weekend Mean</td>\n",
       "      <td>736.0</td>\n",
       "      <td>695.0</td>\n",
       "      <td>593.0</td>\n",
       "      <td>546.5</td>\n",
       "      <td>543.0</td>\n",
       "      <td>529.0</td>\n",
       "      <td>601.5</td>\n",
       "      <td>706.0</td>\n",
       "      <td>817.5</td>\n",
       "      <td>966.5</td>\n",
       "      <td>1083.5</td>\n",
       "    </tr>\n",
       "  </tbody>\n",
       "</table>\n",
       "</div>"
      ],
      "text/plain": [
       "                   7:00-8:00AM  8:00-9:00AM  9:00-10:00AM  10:00-11:00AM  \\\n",
       "Uber Weekend Mean        736.0        695.0         593.0          546.5   \n",
       "\n",
       "                   11:00-12:00PM  12:00-1:00PM  1:00-2:00PM  2:00-3:00PM  \\\n",
       "Uber Weekend Mean          543.0         529.0        601.5        706.0   \n",
       "\n",
       "                   3:00-4:00PM  4:00-5:00PM  5:00-6:00PM  \n",
       "Uber Weekend Mean        817.5        966.5       1083.5  "
      ]
     },
     "execution_count": 22,
     "metadata": {},
     "output_type": "execute_result"
    }
   ],
   "source": [
    "u_wkd_mean = pd.DataFrame(uber_day_of_week.iloc[5:7, :].mean().to_dict(),index=[traffic_day_of_week.index.values[-1]])\n",
    "u_wkd_mean = u_wkd_mean.rename(index = {'Sunday':'Uber Weekend Mean'})\n",
    "u_wkd_mean.head()"
   ]
  },
  {
   "cell_type": "code",
   "execution_count": 23,
   "metadata": {},
   "outputs": [
    {
     "data": {
      "image/png": "[encoded data removed]",
      "text/plain": [
       "<Figure size 432x288 with 1 Axes>"
      ]
     },
     "metadata": {
      "needs_background": "light"
     },
     "output_type": "display_data"
    }
   ],
   "source": [
    "#combinded data frame of traffic on weekends and weekdays\n",
    "#dow means days of the week\n",
    "frames = [t_wdy_mean, t_wkd_mean]\n",
    "t_dow_mean = pd.concat(frames)\n",
    "t_dow_mean.T.plot.bar()\n",
    "plt.title('Traffic Volume on Weekdays vs Weekends')\n",
    "plt.show()"
   ]
  },
  {
   "cell_type": "code",
   "execution_count": 24,
   "metadata": {},
   "outputs": [
    {
     "data": {
      "image/png": "[encoded data removed]",
      "text/plain": [
       "<Figure size 432x288 with 1 Axes>"
      ]
     },
     "metadata": {
      "needs_background": "light"
     },
     "output_type": "display_data"
    }
   ],
   "source": [
    "#combinded data frame of uber counts on weekends and weekdays\n",
    "#dow means days of the week\n",
    "frames = [u_wdy_mean, u_wkd_mean]\n",
    "u_dow_mean = pd.concat(frames)\n",
    "u_dow_mean.T.plot.bar()\n",
    "plt.title('Uber Counts on Weekdays vs Weekends')\n",
    "plt.show()"
   ]
  },
  {
   "cell_type": "code",
   "execution_count": 25,
   "metadata": {},
   "outputs": [
    {
     "name": "stdout",
     "output_type": "stream",
     "text": [
      "Traffic standard deviation for weekday:\n",
      " 7:00-8:00AM      260.365674\n",
      "8:00-9:00AM      215.672072\n",
      "9:00-10:00AM      99.070338\n",
      "10:00-11:00AM     21.099212\n",
      "11:00-12:00PM     40.714712\n",
      "12:00-1:00PM      49.759122\n",
      "1:00-2:00PM       42.656052\n",
      "2:00-3:00PM       20.393076\n",
      "3:00-4:00PM       30.527833\n",
      "4:00-5:00PM       43.983340\n",
      "5:00-6:00PM       55.243976\n",
      "dtype: float64\n",
      "\n",
      "Traffic standard deviation for weekend:\n",
      " 7:00-8:00AM       5.021663\n",
      "8:00-9:00AM       4.543792\n",
      "9:00-10:00AM      7.498852\n",
      "10:00-11:00AM    11.759559\n",
      "11:00-12:00PM    29.333409\n",
      "12:00-1:00PM     37.169081\n",
      "1:00-2:00PM      45.380019\n",
      "2:00-3:00PM      48.358356\n",
      "3:00-4:00PM      52.728267\n",
      "4:00-5:00PM      29.243081\n",
      "5:00-6:00PM      20.485368\n",
      "dtype: float64\n"
     ]
    }
   ],
   "source": [
    "print (\"Traffic standard deviation for weekday:\\n\",traffic_day_of_week.iloc[:5, :].std())\n",
    "\n",
    "print(\"\\nTraffic standard deviation for weekend:\\n\",traffic_day_of_week.iloc[5:7, :].std())"
   ]
  },
  {
   "cell_type": "code",
   "execution_count": 26,
   "metadata": {},
   "outputs": [
    {
     "name": "stdout",
     "output_type": "stream",
     "text": [
      "Uber standard deviation for weekday:\n",
      " 7:00-8:00AM      248.581375\n",
      "8:00-9:00AM      190.863302\n",
      "9:00-10:00AM      79.199116\n",
      "10:00-11:00AM     49.643731\n",
      "11:00-12:00PM     52.952809\n",
      "12:00-1:00PM      75.681570\n",
      "1:00-2:00PM       81.287760\n",
      "2:00-3:00PM      114.204641\n",
      "3:00-4:00PM      123.516396\n",
      "4:00-5:00PM      129.442265\n",
      "5:00-6:00PM      159.488244\n",
      "dtype: float64\n",
      "\n",
      "Uber standard deviation for weekend:\n",
      " 7:00-8:00AM      175.362482\n",
      "8:00-9:00AM      162.634560\n",
      "9:00-10:00AM     115.965512\n",
      "10:00-11:00AM     79.903066\n",
      "11:00-12:00PM     80.610173\n",
      "12:00-1:00PM      52.325902\n",
      "1:00-2:00PM       36.062446\n",
      "2:00-3:00PM       22.627417\n",
      "3:00-4:00PM       12.020815\n",
      "4:00-5:00PM       51.618795\n",
      "5:00-6:00PM       24.748737\n",
      "dtype: float64\n"
     ]
    }
   ],
   "source": [
    "print (\"Uber standard deviation for weekday:\\n\",uber_day_of_week.iloc[:5, :].std())\n",
    "\n",
    "print(\"\\nUber standard deviation for weekend:\\n\",uber_day_of_week.iloc[5:7, :].std())"
   ]
  },
  {
   "cell_type": "code",
   "execution_count": 27,
   "metadata": {},
   "outputs": [
    {
     "name": "stdout",
     "output_type": "stream",
     "text": [
      "P-Value of T-Test for traffic volume mean on weekday and weekend: [0.04204865]\n",
      "P-Value of T-Test for uber counts mean weekday and weekend: [0.00044649]\n"
     ]
    }
   ],
   "source": [
    "print ('P-Value of T-Test for traffic volume mean on weekday and weekend:', stats.ttest_rel(t_wdy_mean.T, t_wkd_mean.T)[1])\n",
    "print ('P-Value of T-Test for uber counts mean weekday and weekend:', stats.ttest_rel(u_wdy_mean.T, u_wkd_mean.T)[1])"
   ]
  },
  {
   "cell_type": "markdown",
   "metadata": {},
   "source": [
    "### Data Analysis: Analyzing traffic volume (mean) and uber counts based on weekday and weekends\n",
    "\n",
    "_Purpose_ : In this instance, we decided to also analyze the trend for uber counts and traffic volume based on weekends and weekdays. We thought that it would intersting to analyze because people's driving habits should change as most people no longer need to drive to work during a typical 9-5. We noticed, when doing the previous data analysis, that there were some instances when the traffic volume or uber counts was higher than we thought during the weekend. Therefore, we wanted to compare them more directly and analyze the standard deviation.\n",
    "\n",
    "_Separating traffic volume and uber counts data into weekdays and weekends_ : Similar to the process above, we created a list for each day of the week. To separate traffic volume mean data and uber counts data into days of the week, we first created a list of the days of the week as well as a list of zeros with dimensions 7x11. Then we wrote a for loop calculating the day of the week for each date, classifying the data into the correct section, and then taking the mean for each day of week and the hour intervals. We used this code for both traffic volume mean and uber counts mean. Then later on we split the dataframes into weekdays and weekends for uber counts mean and traffic volume mean.\n",
    "\n",
    "_Bar graphs_ : We used double bar graphs for our data visualization because we wanted to compare how different traffic volume mean/uber counts was on weekdays v. weekends. For traffic volume mean, we find that on weekends, the earlier hours and later hours (7:00AM - 10:00AM, 2:00PM - 6:00PM) are greater than weekdays. However, weekdays' traffic volume mean exceeds weekends between the hours of 10:00AM - 2:00PM. However, the most significant difference between weekends and weekdays for traffic volume is between 7:00AM and 9:00AM. This was surprising to find as common belief is that individuals tend not to get an early start on their day when it hits the weekend. \n",
    "\n",
    "As for uber counts data, the overlying trend is that the number of ubers called during the weeked exceeds greatly that of weekdays; it is safe to argue there is a signifiant difference. The most significant difference lies between the hours of 7:00AM - 9:00AM and 4:00PM - 6:00PM. This falls in line with the same trends we saw with traffic volume data. However, it was still surprising as we did not expect a large surge in the early hours. After looking at both datasets, it is safe to assume and disprove our hypothesis by stating that there is a significant difference between weekdays and weekends for both uber counts data and traffic volume mean data especially during early mornings. \n",
    "\n",
    "_Standard Deviation_ : We wanted to use standard deviation to see if there was more variation during the weekday and weekends. We created the standard deviation for the hours for the weekday and weekend data points. It was interesting to see that for traffic volume, the standard deviation for the hours were all realtively low. They ranged from around 4 standard deviations to 52 standard deviations. However, on the weekday, the traffic volume for standard deviation during 7-8 AM was 260.365674 and the standard deviation from 8-9 AM was 215.672072. These were the two highest standard deviations. This means that during 7-9 AM there is a large flucation with the traffic volume on the road. A prediction we have could be that it depends on the weather, for example, during sunny weather, people could bike or walk more. The uber standard deviaiton during the weekday reflects high standard deviation during 7-9 AM (248.581375 and 190.863302). In addition, the standard deviation for uber on the weekday increases again between 2-6 PM (114.204641, 123.516396, 129.442265, 159.488244). A predicition is that people are walking or biking to work in the morning and then ubering back for their commmute home. The standard deviation for uber counts on the weekday are also interesting because between 7-10 AM the standard deviation is high ( 175.362482, 162.634560, 115.965512). A possibility we considered is that people go out on the weekends and are ubering back after spending the night at someone's place. \n",
    "\n",
    "_T-Test_ : The null hypothesis is that average traffic volume over the weekday and weekend are equal. The other null hypotheis is that average uber counts over the weekday and weekend are equal. We then conducted a T-Test for the traffic volume mean weekday vs traffic volume mean weekend and uber counts mean weekday vs uber counts mean weekend. We got a p-value from the t-test of 0.04204865 and 0.00044649, respectively. For traffic volume, with a p-value of 0.04204965 we can reject the null hypothesis. For uber counts, with a p-value of 0.00044649, we confidently reject the null hypothesis. Therefore, we can say that the average traffic volume and uber counts are not equal to each other and are different. We can back this up with the bar charts created earlier. "
   ]
  },
  {
   "cell_type": "markdown",
   "metadata": {},
   "source": [
    "### __Conclusion__\n",
    "\n",
    "__Part 1__: For our first research question, does the time of uber pickup have any correlation with traffic volume at that same time?, we have determined that there is a positive almost linear relationship. This proved our initial hypothesis wrong. We reached this conclusion after looking at the linear regression model as well as the data visualization. With the random y-permutation, we recoginized that 0.5 was not on the histogram meaning that there is a strong , linear correlation between these two variables. This analysis could be used later on to see how much Uber affects the traffic in NYC and what could be done to prevent that.\n",
    "\n",
    "__Part 2__: For our second research question, is there any signficant difference in the traffic volume and uber pickup counts on a weekday verus the weekend?, we have determined that there is a significant difference. This again proved our initial hypothesis wrong after having reached this conclusion after examining the data visualization as well as standard deviations. The t-test also disproved our hypothesis as the p-values did not go over 0.5 This analysis can be used later on for individuals to determine when the best time to avoid traffic is on weekdays and weekends."
   ]
  }
 ],
 "metadata": {
  "kernelspec": {
   "display_name": "Python 3",
   "language": "python",
   "name": "python3"
  },
  "language_info": {
   "codemirror_mode": {
    "name": "ipython",
    "version": 3
   },
   "file_extension": ".py",
   "mimetype": "text/x-python",
   "name": "python",
   "nbconvert_exporter": "python",
   "pygments_lexer": "ipython3",
   "version": "3.7.4"
  }
 },
 "nbformat": 4,
 "nbformat_minor": 2
}
