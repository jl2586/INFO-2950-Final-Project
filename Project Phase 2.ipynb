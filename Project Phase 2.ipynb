{
 "cells": [
  {
   "cell_type": "code",
   "execution_count": 3,
   "metadata": {},
   "outputs": [],
   "source": [
    "import pandas as pd\n",
    "import numpy as np"
   ]
  },
  {
   "cell_type": "markdown",
   "metadata": {},
   "source": [
    "Julia Lu (jl2586) and Elaine Li (el556)\n",
    "\n",
    "Subject: UBER Pickup Time v. Traffic Congestion\n",
    "\n",
    "Hypothesis/Question: Does time of pickup have any correlation with traffic congestion at that time? "
   ]
  },
  {
   "cell_type": "code",
   "execution_count": 9,
   "metadata": {},
   "outputs": [],
   "source": [
    "#data aggregation for UBER Pickup Time\n",
    "april = pd.read_csv('uber-raw-data-apr14.csv')\n",
    "\n",
    "may = pd.read_csv('uber-raw-data-may14.csv')\n",
    "\n",
    "june = pd.read_csv('uber-raw-data-jun14.csv')\n",
    "\n",
    "july = pd.read_csv('uber-raw-data-jul14.csv')\n",
    "\n",
    "august = pd.read_csv('uber-raw-data-aug14.csv')\n",
    "\n",
    "september = pd.read_csv('uber-raw-data-sep14.csv')"
   ]
  },
  {
   "cell_type": "raw",
   "metadata": {},
   "source": [
    "We chose these few months because we noticed that they had the most number of UBERS called in 2014. We believed taking these few months would be an accurate sample of the population as a whole. We compiled separate datasets for each month and plan on combining them into one. We also plan to filter out the time column for each dataset so the final dataset we will be using for Times of Ubers called will be the separately combined columns of 'Time of Called Uber'. "
   ]
  },
  {
   "cell_type": "code",
   "execution_count": 10,
   "metadata": {},
   "outputs": [],
   "source": [
    "#data aggregation for traffic volume in 2014\n",
    "trafficvolume_1 = pd.read_csv('linkinfo.csv')\n",
    "\n",
    "trafficvolume_2 = pd.read_csv('Traffic_Volume_Counts__2014-2018_.csv')"
   ]
  },
  {
   "cell_type": "markdown",
   "metadata": {},
   "source": [
    "We plan on only extracting traffic volume for the year 2014. The data set has traffic volume outputs for ever range of 1 hour of time. We plan on organizing the previous time data in this way as well (range of 1 hour, ie. 5:00 - 6:00). "
   ]
  },
  {
   "cell_type": "markdown",
   "metadata": {},
   "source": [
    "__Potential Problems__: "
   ]
  }
 ],
 "metadata": {
  "kernelspec": {
   "display_name": "Python 3",
   "language": "python",
   "name": "python3"
  },
  "language_info": {
   "codemirror_mode": {
    "name": "ipython",
    "version": 3
   },
   "file_extension": ".py",
   "mimetype": "text/x-python",
   "name": "python",
   "nbconvert_exporter": "python",
   "pygments_lexer": "ipython3",
   "version": "3.7.4"
  }
 },
 "nbformat": 4,
 "nbformat_minor": 2
}
